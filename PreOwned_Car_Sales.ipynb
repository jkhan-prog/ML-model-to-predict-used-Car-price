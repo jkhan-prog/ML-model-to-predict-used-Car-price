{
  "nbformat": 4,
  "nbformat_minor": 0,
  "metadata": {
    "colab": {
      "name": "PreOwned_Car_Sales.ipynb",
      "provenance": [],
      "collapsed_sections": [
        "nrEXEiJEqH-0",
        "TIIiLvvsqH_L",
        "KpUjOgOSqH_U"
      ],
      "toc_visible": true
    },
    "kernelspec": {
      "display_name": "Python 3",
      "language": "python",
      "name": "python3"
    },
    "language_info": {
      "codemirror_mode": {
        "name": "ipython",
        "version": 3
      },
      "file_extension": ".py",
      "mimetype": "text/x-python",
      "name": "python",
      "nbconvert_exporter": "python",
      "pygments_lexer": "ipython3",
      "version": "3.8.3"
    },
    "toc": {
      "base_numbering": 1,
      "nav_menu": {},
      "number_sections": true,
      "sideBar": true,
      "skip_h1_title": false,
      "title_cell": "Table of Contents",
      "title_sidebar": "Contents",
      "toc_cell": false,
      "toc_position": {},
      "toc_section_display": true,
      "toc_window_display": false
    }
  },
  "cells": [
    {
      "cell_type": "markdown",
      "metadata": {
        "id": "l9UVOxSmU_om"
      },
      "source": [
        "----------------------------------\n",
        "# Case Study: PreOwned car sales using **Linear Regression**\n",
        "----------------------------------"
      ]
    },
    {
      "cell_type": "markdown",
      "metadata": {
        "id": "ZX59mdQ7VlIK"
      },
      "source": [
        "## Context: \n",
        "    \n",
        "Background & Context\n",
        "\n",
        "There is a huge demand for used cars in the Indian Market today. As sales of new cars have slowed down in the recent past, the pre-owned car market has continued to grow over the past years and is larger than the new car market now. Cars4U is a budding tech start-up that aims to find footholes in this market.\n",
        "\n",
        "In 2018-19, while new car sales were recorded at 3.6 million units, around 4 million second-hand cars were bought and sold. There is a slowdown in new car sales and that could mean that the demand is shifting towards the pre-owned market. In fact, some car sellers replace their old cars with pre-owned cars instead of buying new ones. Unlike new cars, where price and supply are fairly deterministic and managed by OEMs (Original Equipment Manufacturer / except for dealership level discounts which come into play only in the last stage of the customer journey), used cars are very different beasts with huge uncertainty in both pricing and supply. Keeping this in mind, the pricing scheme of these used cars becomes important in order to grow in the market.\n",
        "\n",
        "As a senior data scientist at Cars4U, you have to come up with a pricing model that can effectively predict the price of used cars and can help the business in devising profitable strategies using differential pricing. For example, if the business knows the market price, it will never sell anything below it. "
      ]
    },
    {
      "cell_type": "markdown",
      "metadata": {
        "id": "l8E1Iv6dWVw0"
      },
      "source": [
        "------------------------------"
      ]
    },
    {
      "cell_type": "markdown",
      "metadata": {
        "id": "JB1GE8JTWXUo"
      },
      "source": [
        "## Problem:\n",
        "\n",
        "**The data-set aims to answer the following key questions:**\n",
        "\n",
        "\n",
        "Perform an Exploratory Data Analysis on the data\n",
        "- Univariate analysis - Bivariate analysis - Use appropriate visualisations to identify the patterns and insights - Any other exploratory deep dive\n",
        "5\n",
        "\n",
        "Illustrate the insights based on EDA\n",
        "Key meaningful observations on the relationship between variables\n",
        "5\n",
        "\n",
        "Data pre-processing\n",
        "Prepare the data for analysis - Missing value Treatment, Outlier Treatment, Feature Engineering\n",
        "15\n",
        "\n",
        "Model building - Linear Regression\n",
        "- Build the model and comment on the model statistics - Identify the key variables that have a strong relationship with dependent variable\n",
        "10\n",
        "\n",
        "Test assumptions of linear regression model\n",
        "- Perform tests for the assumptions of the linear regression - Comment on the findings from the test\n",
        "10\n",
        "\n",
        "Model performance evaluation\n",
        "- Evaluate the model on different performance metrics - RMSE, MAE, Adjusted R-square - Comment on the performance measures and if there is any need to improve the model or not\n",
        "5\n",
        "\n",
        "Actionable Insights & Recommendations\n",
        "- Conclude with the key takeaways for the business - what would your advice be to grow the business?\n",
        "\n",
        "\n",
        "- "
      ]
    },
    {
      "cell_type": "markdown",
      "metadata": {
        "id": "sW6HVdi8XE4R"
      },
      "source": [
        "------------------------------"
      ]
    },
    {
      "cell_type": "markdown",
      "metadata": {
        "id": "b3OLaXYDXGky"
      },
      "source": [
        "## Attribute Information:\n",
        "\n",
        "Data Dictionary \n",
        "\n",
        "S.No. : Serial Number\n",
        "\n",
        "Name : Name of the car which includes Brand name and Model name\n",
        "\n",
        "Location : The location in which the car is being sold or is available for purchase Cities\n",
        "\n",
        "Year : Manufacturing year of the car\n",
        "\n",
        "Kilometers_driven : The total kilometers driven in the car by the previous owner(s) in KM.\n",
        "\n",
        "Fuel_Type : The type of fuel used by the car. (Petrol, Diesel, Electric, CNG, LPG)\n",
        "\n",
        "Transmission : The type of transmission used by the car. (Automatic / Manual)\n",
        "\n",
        "Owner : Type of ownership\n",
        "\n",
        "Mileage : The standard mileage offered by the car company in kmpl or km/kg\n",
        "\n",
        "Engine : The displacement volume of the engine in CC.\n",
        "\n",
        "Power : The maximum power of the engine in bhp.\n",
        "\n",
        "Seats : The number of seats in the car.\n",
        "\n",
        "New_Price : The price of a new car of the same model in INR Lakhs.(1 Lakh = 100, 000)\n",
        "\n",
        "Price : The price of the used car in INR Lakhs (1 Lakh = 100, 000)"
      ]
    },
    {
      "cell_type": "markdown",
      "metadata": {
        "id": "_NHrDBauZdxs"
      },
      "source": [
        "------------------------\n",
        "# Concepts to Cover\n",
        "------------------------\n",
        "- 1. Overview of the data\n",
        "- 2. Data Visualization\n",
        "- 3. Data Preparation\n",
        "- 4. Choose Model, Train and Evaluate\n",
        "- 5. Conclusion\n",
        "- 6. Add-on: Statsmodels"
      ]
    },
    {
      "cell_type": "markdown",
      "metadata": {
        "id": "ztm8i-vTbbj8"
      },
      "source": [
        "# Let's start coding!"
      ]
    },
    {
      "cell_type": "markdown",
      "metadata": {
        "id": "vAOm3WNEbeD7"
      },
      "source": [
        "### Import libraries"
      ]
    },
    {
      "cell_type": "code",
      "metadata": {
        "id": "I1OMxQ78FIOG"
      },
      "source": [
        "# Import necessary libraries.\n",
        "import warnings\n",
        "warnings.filterwarnings(\"ignore\")\n",
        "\n",
        "import numpy as np\n",
        "import pandas as pd\n",
        "import matplotlib.pyplot as plt\n",
        "import seaborn as sns\n",
        "import statsmodels.api as sm\n",
        "\n",
        "# To enable plotting graphs in Jupyter notebook\n",
        "%matplotlib inline"
      ],
      "execution_count": null,
      "outputs": []
    },
    {
      "cell_type": "markdown",
      "metadata": {
        "id": "izYYUqAlbiuz"
      },
      "source": [
        "### Load and explore the data"
      ]
    },
    {
      "cell_type": "code",
      "metadata": {
        "id": "s1w7UuCkFTtD"
      },
      "source": [
        "# Load the data into pandas dataframe\n",
        "path = \"used_cars_data.csv\"\n",
        "data = pd.read_csv(path)              # Make changes to the path depending on where your data file is stored."
      ],
      "execution_count": null,
      "outputs": []
    },
    {
      "cell_type": "markdown",
      "metadata": {
        "id": "27wJaX1Cbnn7"
      },
      "source": [
        "### Overview of the data"
      ]
    },
    {
      "cell_type": "code",
      "metadata": {
        "colab": {
          "base_uri": "https://localhost:8080/",
          "height": 204
        },
        "id": "eTZBaF-mFYo3",
        "outputId": "7c745872-dc7e-4262-dccf-efbf9b981c71"
      },
      "source": [
        "# let us make another copy of data\n",
        "df = data.copy()\n",
        "df.head()"
      ],
      "execution_count": null,
      "outputs": [
        {
          "output_type": "execute_result",
          "data": {
            "text/html": [
              "<div>\n",
              "<style scoped>\n",
              "    .dataframe tbody tr th:only-of-type {\n",
              "        vertical-align: middle;\n",
              "    }\n",
              "\n",
              "    .dataframe tbody tr th {\n",
              "        vertical-align: top;\n",
              "    }\n",
              "\n",
              "    .dataframe thead th {\n",
              "        text-align: right;\n",
              "    }\n",
              "</style>\n",
              "<table border=\"1\" class=\"dataframe\">\n",
              "  <thead>\n",
              "    <tr style=\"text-align: right;\">\n",
              "      <th></th>\n",
              "      <th>S.No.</th>\n",
              "      <th>Name</th>\n",
              "      <th>Location</th>\n",
              "      <th>Year</th>\n",
              "      <th>Kilometers_Driven</th>\n",
              "      <th>Fuel_Type</th>\n",
              "      <th>Transmission</th>\n",
              "      <th>Owner_Type</th>\n",
              "      <th>Mileage</th>\n",
              "      <th>Engine</th>\n",
              "      <th>Power</th>\n",
              "      <th>Seats</th>\n",
              "      <th>New_Price</th>\n",
              "      <th>Price</th>\n",
              "    </tr>\n",
              "  </thead>\n",
              "  <tbody>\n",
              "    <tr>\n",
              "      <th>0</th>\n",
              "      <td>0</td>\n",
              "      <td>Maruti Wagon R LXI CNG</td>\n",
              "      <td>Mumbai</td>\n",
              "      <td>2010</td>\n",
              "      <td>72000</td>\n",
              "      <td>CNG</td>\n",
              "      <td>Manual</td>\n",
              "      <td>First</td>\n",
              "      <td>26.6 km/kg</td>\n",
              "      <td>998 CC</td>\n",
              "      <td>58.16 bhp</td>\n",
              "      <td>5.00</td>\n",
              "      <td>NaN</td>\n",
              "      <td>1.75</td>\n",
              "    </tr>\n",
              "    <tr>\n",
              "      <th>1</th>\n",
              "      <td>1</td>\n",
              "      <td>Hyundai Creta 1.6 CRDi SX Option</td>\n",
              "      <td>Pune</td>\n",
              "      <td>2015</td>\n",
              "      <td>41000</td>\n",
              "      <td>Diesel</td>\n",
              "      <td>Manual</td>\n",
              "      <td>First</td>\n",
              "      <td>19.67 kmpl</td>\n",
              "      <td>1582 CC</td>\n",
              "      <td>126.2 bhp</td>\n",
              "      <td>5.00</td>\n",
              "      <td>NaN</td>\n",
              "      <td>12.50</td>\n",
              "    </tr>\n",
              "    <tr>\n",
              "      <th>2</th>\n",
              "      <td>2</td>\n",
              "      <td>Honda Jazz V</td>\n",
              "      <td>Chennai</td>\n",
              "      <td>2011</td>\n",
              "      <td>46000</td>\n",
              "      <td>Petrol</td>\n",
              "      <td>Manual</td>\n",
              "      <td>First</td>\n",
              "      <td>18.2 kmpl</td>\n",
              "      <td>1199 CC</td>\n",
              "      <td>88.7 bhp</td>\n",
              "      <td>5.00</td>\n",
              "      <td>8.61 Lakh</td>\n",
              "      <td>4.50</td>\n",
              "    </tr>\n",
              "    <tr>\n",
              "      <th>3</th>\n",
              "      <td>3</td>\n",
              "      <td>Maruti Ertiga VDI</td>\n",
              "      <td>Chennai</td>\n",
              "      <td>2012</td>\n",
              "      <td>87000</td>\n",
              "      <td>Diesel</td>\n",
              "      <td>Manual</td>\n",
              "      <td>First</td>\n",
              "      <td>20.77 kmpl</td>\n",
              "      <td>1248 CC</td>\n",
              "      <td>88.76 bhp</td>\n",
              "      <td>7.00</td>\n",
              "      <td>NaN</td>\n",
              "      <td>6.00</td>\n",
              "    </tr>\n",
              "    <tr>\n",
              "      <th>4</th>\n",
              "      <td>4</td>\n",
              "      <td>Audi A4 New 2.0 TDI Multitronic</td>\n",
              "      <td>Coimbatore</td>\n",
              "      <td>2013</td>\n",
              "      <td>40670</td>\n",
              "      <td>Diesel</td>\n",
              "      <td>Automatic</td>\n",
              "      <td>Second</td>\n",
              "      <td>15.2 kmpl</td>\n",
              "      <td>1968 CC</td>\n",
              "      <td>140.8 bhp</td>\n",
              "      <td>5.00</td>\n",
              "      <td>NaN</td>\n",
              "      <td>17.74</td>\n",
              "    </tr>\n",
              "  </tbody>\n",
              "</table>\n",
              "</div>"
            ],
            "text/plain": [
              "   S.No.                              Name    Location  ...  Seats  New_Price Price\n",
              "0      0            Maruti Wagon R LXI CNG      Mumbai  ...   5.00        NaN  1.75\n",
              "1      1  Hyundai Creta 1.6 CRDi SX Option        Pune  ...   5.00        NaN 12.50\n",
              "2      2                      Honda Jazz V     Chennai  ...   5.00  8.61 Lakh  4.50\n",
              "3      3                 Maruti Ertiga VDI     Chennai  ...   7.00        NaN  6.00\n",
              "4      4   Audi A4 New 2.0 TDI Multitronic  Coimbatore  ...   5.00        NaN 17.74\n",
              "\n",
              "[5 rows x 14 columns]"
            ]
          },
          "metadata": {
            "tags": []
          },
          "execution_count": 241
        }
      ]
    },
    {
      "cell_type": "markdown",
      "metadata": {
        "id": "Tlm1e2BEqHzZ"
      },
      "source": [
        "### Check number of rows and columns"
      ]
    },
    {
      "cell_type": "code",
      "metadata": {
        "colab": {
          "base_uri": "https://localhost:8080/"
        },
        "id": "5ZUbpN-BFXme",
        "outputId": "fb71f3fe-8a55-4403-8810-5832932388ac"
      },
      "source": [
        "df.shape"
      ],
      "execution_count": null,
      "outputs": [
        {
          "output_type": "execute_result",
          "data": {
            "text/plain": [
              "(7253, 14)"
            ]
          },
          "metadata": {
            "tags": []
          },
          "execution_count": 242
        }
      ]
    },
    {
      "cell_type": "markdown",
      "metadata": {
        "id": "kd_EgHFiqHzi"
      },
      "source": [
        "### Lets us Have a look at the column names"
      ]
    },
    {
      "cell_type": "code",
      "metadata": {
        "colab": {
          "base_uri": "https://localhost:8080/"
        },
        "id": "tvv72L7HF-Hf",
        "outputId": "4c44490a-108c-4c33-aab9-3403d2098025"
      },
      "source": [
        "df.columns"
      ],
      "execution_count": null,
      "outputs": [
        {
          "output_type": "execute_result",
          "data": {
            "text/plain": [
              "Index(['S.No.', 'Name', 'Location', 'Year', 'Kilometers_Driven', 'Fuel_Type',\n",
              "       'Transmission', 'Owner_Type', 'Mileage', 'Engine', 'Power', 'Seats',\n",
              "       'New_Price', 'Price'],\n",
              "      dtype='object')"
            ]
          },
          "metadata": {
            "tags": []
          },
          "execution_count": 243
        }
      ]
    },
    {
      "cell_type": "markdown",
      "metadata": {
        "id": "9s7u_gL9qHzt"
      },
      "source": [
        "### Check column types and missing values"
      ]
    },
    {
      "cell_type": "code",
      "metadata": {
        "colab": {
          "base_uri": "https://localhost:8080/"
        },
        "id": "SCmj9LyLFZ_W",
        "outputId": "f17418a4-1b60-4200-bda5-16858476c286"
      },
      "source": [
        "df.info()"
      ],
      "execution_count": null,
      "outputs": [
        {
          "output_type": "stream",
          "text": [
            "<class 'pandas.core.frame.DataFrame'>\n",
            "RangeIndex: 7253 entries, 0 to 7252\n",
            "Data columns (total 14 columns):\n",
            " #   Column             Non-Null Count  Dtype  \n",
            "---  ------             --------------  -----  \n",
            " 0   S.No.              7253 non-null   int64  \n",
            " 1   Name               7253 non-null   object \n",
            " 2   Location           7253 non-null   object \n",
            " 3   Year               7253 non-null   int64  \n",
            " 4   Kilometers_Driven  7253 non-null   int64  \n",
            " 5   Fuel_Type          7253 non-null   object \n",
            " 6   Transmission       7253 non-null   object \n",
            " 7   Owner_Type         7253 non-null   object \n",
            " 8   Mileage            7251 non-null   object \n",
            " 9   Engine             7207 non-null   object \n",
            " 10  Power              7207 non-null   object \n",
            " 11  Seats              7200 non-null   float64\n",
            " 12  New_Price          1006 non-null   object \n",
            " 13  Price              6019 non-null   float64\n",
            "dtypes: float64(2), int64(3), object(9)\n",
            "memory usage: 793.4+ KB\n"
          ],
          "name": "stdout"
        }
      ]
    },
    {
      "cell_type": "markdown",
      "metadata": {
        "id": "TDCZ8MXCqHz0"
      },
      "source": [
        "**Observations**\n",
        "* There are 7253 rows and 14 columns\n",
        "* Column names have spaces and spacial characters which we would fix\n",
        "* Status is categorical variable and all other variables are numerical type\n",
        "* Dependent Variable is Price"
      ]
    },
    {
      "cell_type": "markdown",
      "metadata": {
        "id": "b4uN1dM4qHz-"
      },
      "source": [
        "### Lets us look at missing values"
      ]
    },
    {
      "cell_type": "code",
      "metadata": {
        "colab": {
          "base_uri": "https://localhost:8080/"
        },
        "id": "TyYy1QtPqHz_",
        "outputId": "8ef6fdf9-d817-4cec-882c-5e8aaeb46fe0"
      },
      "source": [
        "df.isna().sum()\r\n"
      ],
      "execution_count": null,
      "outputs": [
        {
          "output_type": "execute_result",
          "data": {
            "text/plain": [
              "S.No.                   0\n",
              "Name                    0\n",
              "Location                0\n",
              "Year                    0\n",
              "Kilometers_Driven       0\n",
              "Fuel_Type               0\n",
              "Transmission            0\n",
              "Owner_Type              0\n",
              "Mileage                 2\n",
              "Engine                 46\n",
              "Power                  46\n",
              "Seats                  53\n",
              "New_Price            6247\n",
              "Price                1234\n",
              "dtype: int64"
            ]
          },
          "metadata": {
            "tags": []
          },
          "execution_count": 245
        }
      ]
    },
    {
      "cell_type": "markdown",
      "metadata": {
        "id": "wYF-RsrNqH0E"
      },
      "source": [
        "### let us fix missing values"
      ]
    },
    {
      "cell_type": "code",
      "metadata": {
        "id": "yezNtp2vHYr_"
      },
      "source": [
        "# we will replace missing values in every column with its medain\n",
        "#medianFiller = lambda x: x.fillna(x.median())\n",
        "#numeric_columns = df.select_dtypes(include=np.number).columns.tolist()\n",
        "#df[numeric_columns] = df[numeric_columns].apply(medianFiller,axis=0)\n",
        "#df.head(10)"
      ],
      "execution_count": null,
      "outputs": []
    },
    {
      "cell_type": "code",
      "metadata": {
        "colab": {
          "base_uri": "https://localhost:8080/"
        },
        "id": "q4gFZAEDEcHr",
        "outputId": "e358e83d-04b4-456b-c5e1-a70b6e95d022"
      },
      "source": [
        "df.isna().sum()"
      ],
      "execution_count": null,
      "outputs": [
        {
          "output_type": "execute_result",
          "data": {
            "text/plain": [
              "S.No.                   0\n",
              "Name                    0\n",
              "Location                0\n",
              "Year                    0\n",
              "Kilometers_Driven       0\n",
              "Fuel_Type               0\n",
              "Transmission            0\n",
              "Owner_Type              0\n",
              "Mileage                 2\n",
              "Engine                 46\n",
              "Power                  46\n",
              "Seats                  53\n",
              "New_Price            6247\n",
              "Price                1234\n",
              "dtype: int64"
            ]
          },
          "metadata": {
            "tags": []
          },
          "execution_count": 247
        }
      ]
    },
    {
      "cell_type": "code",
      "metadata": {
        "colab": {
          "base_uri": "https://localhost:8080/",
          "height": 419
        },
        "id": "1-ndNYYf1DiU",
        "outputId": "3996917a-c86e-44b0-c11f-be31fbdd2db7"
      },
      "source": [
        "#drop column new price \r\n",
        "df.drop('New_Price', axis = 1, inplace=True)\r\n",
        "df\r\n"
      ],
      "execution_count": null,
      "outputs": [
        {
          "output_type": "execute_result",
          "data": {
            "text/html": [
              "<div>\n",
              "<style scoped>\n",
              "    .dataframe tbody tr th:only-of-type {\n",
              "        vertical-align: middle;\n",
              "    }\n",
              "\n",
              "    .dataframe tbody tr th {\n",
              "        vertical-align: top;\n",
              "    }\n",
              "\n",
              "    .dataframe thead th {\n",
              "        text-align: right;\n",
              "    }\n",
              "</style>\n",
              "<table border=\"1\" class=\"dataframe\">\n",
              "  <thead>\n",
              "    <tr style=\"text-align: right;\">\n",
              "      <th></th>\n",
              "      <th>S.No.</th>\n",
              "      <th>Name</th>\n",
              "      <th>Location</th>\n",
              "      <th>Year</th>\n",
              "      <th>Kilometers_Driven</th>\n",
              "      <th>Fuel_Type</th>\n",
              "      <th>Transmission</th>\n",
              "      <th>Owner_Type</th>\n",
              "      <th>Mileage</th>\n",
              "      <th>Engine</th>\n",
              "      <th>Power</th>\n",
              "      <th>Seats</th>\n",
              "      <th>Price</th>\n",
              "    </tr>\n",
              "  </thead>\n",
              "  <tbody>\n",
              "    <tr>\n",
              "      <th>0</th>\n",
              "      <td>0</td>\n",
              "      <td>Maruti Wagon R LXI CNG</td>\n",
              "      <td>Mumbai</td>\n",
              "      <td>2010</td>\n",
              "      <td>72000</td>\n",
              "      <td>CNG</td>\n",
              "      <td>Manual</td>\n",
              "      <td>First</td>\n",
              "      <td>26.6 km/kg</td>\n",
              "      <td>998 CC</td>\n",
              "      <td>58.16 bhp</td>\n",
              "      <td>5.00</td>\n",
              "      <td>1.75</td>\n",
              "    </tr>\n",
              "    <tr>\n",
              "      <th>1</th>\n",
              "      <td>1</td>\n",
              "      <td>Hyundai Creta 1.6 CRDi SX Option</td>\n",
              "      <td>Pune</td>\n",
              "      <td>2015</td>\n",
              "      <td>41000</td>\n",
              "      <td>Diesel</td>\n",
              "      <td>Manual</td>\n",
              "      <td>First</td>\n",
              "      <td>19.67 kmpl</td>\n",
              "      <td>1582 CC</td>\n",
              "      <td>126.2 bhp</td>\n",
              "      <td>5.00</td>\n",
              "      <td>12.50</td>\n",
              "    </tr>\n",
              "    <tr>\n",
              "      <th>2</th>\n",
              "      <td>2</td>\n",
              "      <td>Honda Jazz V</td>\n",
              "      <td>Chennai</td>\n",
              "      <td>2011</td>\n",
              "      <td>46000</td>\n",
              "      <td>Petrol</td>\n",
              "      <td>Manual</td>\n",
              "      <td>First</td>\n",
              "      <td>18.2 kmpl</td>\n",
              "      <td>1199 CC</td>\n",
              "      <td>88.7 bhp</td>\n",
              "      <td>5.00</td>\n",
              "      <td>4.50</td>\n",
              "    </tr>\n",
              "    <tr>\n",
              "      <th>3</th>\n",
              "      <td>3</td>\n",
              "      <td>Maruti Ertiga VDI</td>\n",
              "      <td>Chennai</td>\n",
              "      <td>2012</td>\n",
              "      <td>87000</td>\n",
              "      <td>Diesel</td>\n",
              "      <td>Manual</td>\n",
              "      <td>First</td>\n",
              "      <td>20.77 kmpl</td>\n",
              "      <td>1248 CC</td>\n",
              "      <td>88.76 bhp</td>\n",
              "      <td>7.00</td>\n",
              "      <td>6.00</td>\n",
              "    </tr>\n",
              "    <tr>\n",
              "      <th>4</th>\n",
              "      <td>4</td>\n",
              "      <td>Audi A4 New 2.0 TDI Multitronic</td>\n",
              "      <td>Coimbatore</td>\n",
              "      <td>2013</td>\n",
              "      <td>40670</td>\n",
              "      <td>Diesel</td>\n",
              "      <td>Automatic</td>\n",
              "      <td>Second</td>\n",
              "      <td>15.2 kmpl</td>\n",
              "      <td>1968 CC</td>\n",
              "      <td>140.8 bhp</td>\n",
              "      <td>5.00</td>\n",
              "      <td>17.74</td>\n",
              "    </tr>\n",
              "    <tr>\n",
              "      <th>...</th>\n",
              "      <td>...</td>\n",
              "      <td>...</td>\n",
              "      <td>...</td>\n",
              "      <td>...</td>\n",
              "      <td>...</td>\n",
              "      <td>...</td>\n",
              "      <td>...</td>\n",
              "      <td>...</td>\n",
              "      <td>...</td>\n",
              "      <td>...</td>\n",
              "      <td>...</td>\n",
              "      <td>...</td>\n",
              "      <td>...</td>\n",
              "    </tr>\n",
              "    <tr>\n",
              "      <th>7248</th>\n",
              "      <td>7248</td>\n",
              "      <td>Volkswagen Vento Diesel Trendline</td>\n",
              "      <td>Hyderabad</td>\n",
              "      <td>2011</td>\n",
              "      <td>89411</td>\n",
              "      <td>Diesel</td>\n",
              "      <td>Manual</td>\n",
              "      <td>First</td>\n",
              "      <td>20.54 kmpl</td>\n",
              "      <td>1598 CC</td>\n",
              "      <td>103.6 bhp</td>\n",
              "      <td>5.00</td>\n",
              "      <td>nan</td>\n",
              "    </tr>\n",
              "    <tr>\n",
              "      <th>7249</th>\n",
              "      <td>7249</td>\n",
              "      <td>Volkswagen Polo GT TSI</td>\n",
              "      <td>Mumbai</td>\n",
              "      <td>2015</td>\n",
              "      <td>59000</td>\n",
              "      <td>Petrol</td>\n",
              "      <td>Automatic</td>\n",
              "      <td>First</td>\n",
              "      <td>17.21 kmpl</td>\n",
              "      <td>1197 CC</td>\n",
              "      <td>103.6 bhp</td>\n",
              "      <td>5.00</td>\n",
              "      <td>nan</td>\n",
              "    </tr>\n",
              "    <tr>\n",
              "      <th>7250</th>\n",
              "      <td>7250</td>\n",
              "      <td>Nissan Micra Diesel XV</td>\n",
              "      <td>Kolkata</td>\n",
              "      <td>2012</td>\n",
              "      <td>28000</td>\n",
              "      <td>Diesel</td>\n",
              "      <td>Manual</td>\n",
              "      <td>First</td>\n",
              "      <td>23.08 kmpl</td>\n",
              "      <td>1461 CC</td>\n",
              "      <td>63.1 bhp</td>\n",
              "      <td>5.00</td>\n",
              "      <td>nan</td>\n",
              "    </tr>\n",
              "    <tr>\n",
              "      <th>7251</th>\n",
              "      <td>7251</td>\n",
              "      <td>Volkswagen Polo GT TSI</td>\n",
              "      <td>Pune</td>\n",
              "      <td>2013</td>\n",
              "      <td>52262</td>\n",
              "      <td>Petrol</td>\n",
              "      <td>Automatic</td>\n",
              "      <td>Third</td>\n",
              "      <td>17.2 kmpl</td>\n",
              "      <td>1197 CC</td>\n",
              "      <td>103.6 bhp</td>\n",
              "      <td>5.00</td>\n",
              "      <td>nan</td>\n",
              "    </tr>\n",
              "    <tr>\n",
              "      <th>7252</th>\n",
              "      <td>7252</td>\n",
              "      <td>Mercedes-Benz E-Class 2009-2013 E 220 CDI Avan...</td>\n",
              "      <td>Kochi</td>\n",
              "      <td>2014</td>\n",
              "      <td>72443</td>\n",
              "      <td>Diesel</td>\n",
              "      <td>Automatic</td>\n",
              "      <td>First</td>\n",
              "      <td>10.0 kmpl</td>\n",
              "      <td>2148 CC</td>\n",
              "      <td>170 bhp</td>\n",
              "      <td>5.00</td>\n",
              "      <td>nan</td>\n",
              "    </tr>\n",
              "  </tbody>\n",
              "</table>\n",
              "<p>7253 rows × 13 columns</p>\n",
              "</div>"
            ],
            "text/plain": [
              "      S.No.                                               Name  ... Seats  Price\n",
              "0         0                             Maruti Wagon R LXI CNG  ...  5.00   1.75\n",
              "1         1                   Hyundai Creta 1.6 CRDi SX Option  ...  5.00  12.50\n",
              "2         2                                       Honda Jazz V  ...  5.00   4.50\n",
              "3         3                                  Maruti Ertiga VDI  ...  7.00   6.00\n",
              "4         4                    Audi A4 New 2.0 TDI Multitronic  ...  5.00  17.74\n",
              "...     ...                                                ...  ...   ...    ...\n",
              "7248   7248                  Volkswagen Vento Diesel Trendline  ...  5.00    nan\n",
              "7249   7249                             Volkswagen Polo GT TSI  ...  5.00    nan\n",
              "7250   7250                             Nissan Micra Diesel XV  ...  5.00    nan\n",
              "7251   7251                             Volkswagen Polo GT TSI  ...  5.00    nan\n",
              "7252   7252  Mercedes-Benz E-Class 2009-2013 E 220 CDI Avan...  ...  5.00    nan\n",
              "\n",
              "[7253 rows x 13 columns]"
            ]
          },
          "metadata": {
            "tags": []
          },
          "execution_count": 248
        }
      ]
    },
    {
      "cell_type": "code",
      "metadata": {
        "colab": {
          "base_uri": "https://localhost:8080/",
          "height": 419
        },
        "id": "bwIc0Wkn1mK7",
        "outputId": "f30f1a52-d100-4aa7-b656-06c6dcddc611"
      },
      "source": [
        "#now dropna\r\n",
        "df.dropna(axis =0, inplace=True)\r\n",
        "df"
      ],
      "execution_count": null,
      "outputs": [
        {
          "output_type": "execute_result",
          "data": {
            "text/html": [
              "<div>\n",
              "<style scoped>\n",
              "    .dataframe tbody tr th:only-of-type {\n",
              "        vertical-align: middle;\n",
              "    }\n",
              "\n",
              "    .dataframe tbody tr th {\n",
              "        vertical-align: top;\n",
              "    }\n",
              "\n",
              "    .dataframe thead th {\n",
              "        text-align: right;\n",
              "    }\n",
              "</style>\n",
              "<table border=\"1\" class=\"dataframe\">\n",
              "  <thead>\n",
              "    <tr style=\"text-align: right;\">\n",
              "      <th></th>\n",
              "      <th>S.No.</th>\n",
              "      <th>Name</th>\n",
              "      <th>Location</th>\n",
              "      <th>Year</th>\n",
              "      <th>Kilometers_Driven</th>\n",
              "      <th>Fuel_Type</th>\n",
              "      <th>Transmission</th>\n",
              "      <th>Owner_Type</th>\n",
              "      <th>Mileage</th>\n",
              "      <th>Engine</th>\n",
              "      <th>Power</th>\n",
              "      <th>Seats</th>\n",
              "      <th>Price</th>\n",
              "    </tr>\n",
              "  </thead>\n",
              "  <tbody>\n",
              "    <tr>\n",
              "      <th>0</th>\n",
              "      <td>0</td>\n",
              "      <td>Maruti Wagon R LXI CNG</td>\n",
              "      <td>Mumbai</td>\n",
              "      <td>2010</td>\n",
              "      <td>72000</td>\n",
              "      <td>CNG</td>\n",
              "      <td>Manual</td>\n",
              "      <td>First</td>\n",
              "      <td>26.6 km/kg</td>\n",
              "      <td>998 CC</td>\n",
              "      <td>58.16 bhp</td>\n",
              "      <td>5.00</td>\n",
              "      <td>1.75</td>\n",
              "    </tr>\n",
              "    <tr>\n",
              "      <th>1</th>\n",
              "      <td>1</td>\n",
              "      <td>Hyundai Creta 1.6 CRDi SX Option</td>\n",
              "      <td>Pune</td>\n",
              "      <td>2015</td>\n",
              "      <td>41000</td>\n",
              "      <td>Diesel</td>\n",
              "      <td>Manual</td>\n",
              "      <td>First</td>\n",
              "      <td>19.67 kmpl</td>\n",
              "      <td>1582 CC</td>\n",
              "      <td>126.2 bhp</td>\n",
              "      <td>5.00</td>\n",
              "      <td>12.50</td>\n",
              "    </tr>\n",
              "    <tr>\n",
              "      <th>2</th>\n",
              "      <td>2</td>\n",
              "      <td>Honda Jazz V</td>\n",
              "      <td>Chennai</td>\n",
              "      <td>2011</td>\n",
              "      <td>46000</td>\n",
              "      <td>Petrol</td>\n",
              "      <td>Manual</td>\n",
              "      <td>First</td>\n",
              "      <td>18.2 kmpl</td>\n",
              "      <td>1199 CC</td>\n",
              "      <td>88.7 bhp</td>\n",
              "      <td>5.00</td>\n",
              "      <td>4.50</td>\n",
              "    </tr>\n",
              "    <tr>\n",
              "      <th>3</th>\n",
              "      <td>3</td>\n",
              "      <td>Maruti Ertiga VDI</td>\n",
              "      <td>Chennai</td>\n",
              "      <td>2012</td>\n",
              "      <td>87000</td>\n",
              "      <td>Diesel</td>\n",
              "      <td>Manual</td>\n",
              "      <td>First</td>\n",
              "      <td>20.77 kmpl</td>\n",
              "      <td>1248 CC</td>\n",
              "      <td>88.76 bhp</td>\n",
              "      <td>7.00</td>\n",
              "      <td>6.00</td>\n",
              "    </tr>\n",
              "    <tr>\n",
              "      <th>4</th>\n",
              "      <td>4</td>\n",
              "      <td>Audi A4 New 2.0 TDI Multitronic</td>\n",
              "      <td>Coimbatore</td>\n",
              "      <td>2013</td>\n",
              "      <td>40670</td>\n",
              "      <td>Diesel</td>\n",
              "      <td>Automatic</td>\n",
              "      <td>Second</td>\n",
              "      <td>15.2 kmpl</td>\n",
              "      <td>1968 CC</td>\n",
              "      <td>140.8 bhp</td>\n",
              "      <td>5.00</td>\n",
              "      <td>17.74</td>\n",
              "    </tr>\n",
              "    <tr>\n",
              "      <th>...</th>\n",
              "      <td>...</td>\n",
              "      <td>...</td>\n",
              "      <td>...</td>\n",
              "      <td>...</td>\n",
              "      <td>...</td>\n",
              "      <td>...</td>\n",
              "      <td>...</td>\n",
              "      <td>...</td>\n",
              "      <td>...</td>\n",
              "      <td>...</td>\n",
              "      <td>...</td>\n",
              "      <td>...</td>\n",
              "      <td>...</td>\n",
              "    </tr>\n",
              "    <tr>\n",
              "      <th>6014</th>\n",
              "      <td>6014</td>\n",
              "      <td>Maruti Swift VDI</td>\n",
              "      <td>Delhi</td>\n",
              "      <td>2014</td>\n",
              "      <td>27365</td>\n",
              "      <td>Diesel</td>\n",
              "      <td>Manual</td>\n",
              "      <td>First</td>\n",
              "      <td>28.4 kmpl</td>\n",
              "      <td>1248 CC</td>\n",
              "      <td>74 bhp</td>\n",
              "      <td>5.00</td>\n",
              "      <td>4.75</td>\n",
              "    </tr>\n",
              "    <tr>\n",
              "      <th>6015</th>\n",
              "      <td>6015</td>\n",
              "      <td>Hyundai Xcent 1.1 CRDi S</td>\n",
              "      <td>Jaipur</td>\n",
              "      <td>2015</td>\n",
              "      <td>100000</td>\n",
              "      <td>Diesel</td>\n",
              "      <td>Manual</td>\n",
              "      <td>First</td>\n",
              "      <td>24.4 kmpl</td>\n",
              "      <td>1120 CC</td>\n",
              "      <td>71 bhp</td>\n",
              "      <td>5.00</td>\n",
              "      <td>4.00</td>\n",
              "    </tr>\n",
              "    <tr>\n",
              "      <th>6016</th>\n",
              "      <td>6016</td>\n",
              "      <td>Mahindra Xylo D4 BSIV</td>\n",
              "      <td>Jaipur</td>\n",
              "      <td>2012</td>\n",
              "      <td>55000</td>\n",
              "      <td>Diesel</td>\n",
              "      <td>Manual</td>\n",
              "      <td>Second</td>\n",
              "      <td>14.0 kmpl</td>\n",
              "      <td>2498 CC</td>\n",
              "      <td>112 bhp</td>\n",
              "      <td>8.00</td>\n",
              "      <td>2.90</td>\n",
              "    </tr>\n",
              "    <tr>\n",
              "      <th>6017</th>\n",
              "      <td>6017</td>\n",
              "      <td>Maruti Wagon R VXI</td>\n",
              "      <td>Kolkata</td>\n",
              "      <td>2013</td>\n",
              "      <td>46000</td>\n",
              "      <td>Petrol</td>\n",
              "      <td>Manual</td>\n",
              "      <td>First</td>\n",
              "      <td>18.9 kmpl</td>\n",
              "      <td>998 CC</td>\n",
              "      <td>67.1 bhp</td>\n",
              "      <td>5.00</td>\n",
              "      <td>2.65</td>\n",
              "    </tr>\n",
              "    <tr>\n",
              "      <th>6018</th>\n",
              "      <td>6018</td>\n",
              "      <td>Chevrolet Beat Diesel</td>\n",
              "      <td>Hyderabad</td>\n",
              "      <td>2011</td>\n",
              "      <td>47000</td>\n",
              "      <td>Diesel</td>\n",
              "      <td>Manual</td>\n",
              "      <td>First</td>\n",
              "      <td>25.44 kmpl</td>\n",
              "      <td>936 CC</td>\n",
              "      <td>57.6 bhp</td>\n",
              "      <td>5.00</td>\n",
              "      <td>2.50</td>\n",
              "    </tr>\n",
              "  </tbody>\n",
              "</table>\n",
              "<p>5975 rows × 13 columns</p>\n",
              "</div>"
            ],
            "text/plain": [
              "      S.No.                              Name  ... Seats  Price\n",
              "0         0            Maruti Wagon R LXI CNG  ...  5.00   1.75\n",
              "1         1  Hyundai Creta 1.6 CRDi SX Option  ...  5.00  12.50\n",
              "2         2                      Honda Jazz V  ...  5.00   4.50\n",
              "3         3                 Maruti Ertiga VDI  ...  7.00   6.00\n",
              "4         4   Audi A4 New 2.0 TDI Multitronic  ...  5.00  17.74\n",
              "...     ...                               ...  ...   ...    ...\n",
              "6014   6014                  Maruti Swift VDI  ...  5.00   4.75\n",
              "6015   6015          Hyundai Xcent 1.1 CRDi S  ...  5.00   4.00\n",
              "6016   6016             Mahindra Xylo D4 BSIV  ...  8.00   2.90\n",
              "6017   6017                Maruti Wagon R VXI  ...  5.00   2.65\n",
              "6018   6018             Chevrolet Beat Diesel  ...  5.00   2.50\n",
              "\n",
              "[5975 rows x 13 columns]"
            ]
          },
          "metadata": {
            "tags": []
          },
          "execution_count": 249
        }
      ]
    },
    {
      "cell_type": "code",
      "metadata": {
        "id": "P5DGJVUIa1Os"
      },
      "source": [
        "##"
      ],
      "execution_count": null,
      "outputs": []
    },
    {
      "cell_type": "code",
      "metadata": {
        "colab": {
          "base_uri": "https://localhost:8080/",
          "height": 419
        },
        "id": "osvU9mz7ZTKD",
        "outputId": "a4e39e9d-af9c-43c5-9f61-2fd8d8f40793"
      },
      "source": [
        "#Remove Text from Numericals. Not Converting km/kg to kmpl, as mentioned on project discussion \r\n",
        "\r\n",
        "df1 = df.copy()\r\n",
        "df1['Mileage'] = df1['Mileage'].replace(to_replace=r'kmpl', value='', regex=True)\r\n",
        "df1['Mileage'] = df1['Mileage'].replace(to_replace=r'km/kg', value='', regex=True)\r\n",
        "df1['Engine'] = df1['Engine'].replace(to_replace=r' CC', value='', regex=True)\r\n",
        "df1['Power'] = df1['Power'].replace(to_replace=r' bhp', value='', regex=True)\r\n",
        "#df1['New_Price'] = df1['New_Price'].replace(to_replace=r'Lakh', value='', regex=True)\r\n",
        "df1\r\n"
      ],
      "execution_count": null,
      "outputs": [
        {
          "output_type": "execute_result",
          "data": {
            "text/html": [
              "<div>\n",
              "<style scoped>\n",
              "    .dataframe tbody tr th:only-of-type {\n",
              "        vertical-align: middle;\n",
              "    }\n",
              "\n",
              "    .dataframe tbody tr th {\n",
              "        vertical-align: top;\n",
              "    }\n",
              "\n",
              "    .dataframe thead th {\n",
              "        text-align: right;\n",
              "    }\n",
              "</style>\n",
              "<table border=\"1\" class=\"dataframe\">\n",
              "  <thead>\n",
              "    <tr style=\"text-align: right;\">\n",
              "      <th></th>\n",
              "      <th>S.No.</th>\n",
              "      <th>Name</th>\n",
              "      <th>Location</th>\n",
              "      <th>Year</th>\n",
              "      <th>Kilometers_Driven</th>\n",
              "      <th>Fuel_Type</th>\n",
              "      <th>Transmission</th>\n",
              "      <th>Owner_Type</th>\n",
              "      <th>Mileage</th>\n",
              "      <th>Engine</th>\n",
              "      <th>Power</th>\n",
              "      <th>Seats</th>\n",
              "      <th>Price</th>\n",
              "    </tr>\n",
              "  </thead>\n",
              "  <tbody>\n",
              "    <tr>\n",
              "      <th>0</th>\n",
              "      <td>0</td>\n",
              "      <td>Maruti Wagon R LXI CNG</td>\n",
              "      <td>Mumbai</td>\n",
              "      <td>2010</td>\n",
              "      <td>72000</td>\n",
              "      <td>CNG</td>\n",
              "      <td>Manual</td>\n",
              "      <td>First</td>\n",
              "      <td>26.6</td>\n",
              "      <td>998</td>\n",
              "      <td>58.16</td>\n",
              "      <td>5.00</td>\n",
              "      <td>1.75</td>\n",
              "    </tr>\n",
              "    <tr>\n",
              "      <th>1</th>\n",
              "      <td>1</td>\n",
              "      <td>Hyundai Creta 1.6 CRDi SX Option</td>\n",
              "      <td>Pune</td>\n",
              "      <td>2015</td>\n",
              "      <td>41000</td>\n",
              "      <td>Diesel</td>\n",
              "      <td>Manual</td>\n",
              "      <td>First</td>\n",
              "      <td>19.67</td>\n",
              "      <td>1582</td>\n",
              "      <td>126.2</td>\n",
              "      <td>5.00</td>\n",
              "      <td>12.50</td>\n",
              "    </tr>\n",
              "    <tr>\n",
              "      <th>2</th>\n",
              "      <td>2</td>\n",
              "      <td>Honda Jazz V</td>\n",
              "      <td>Chennai</td>\n",
              "      <td>2011</td>\n",
              "      <td>46000</td>\n",
              "      <td>Petrol</td>\n",
              "      <td>Manual</td>\n",
              "      <td>First</td>\n",
              "      <td>18.2</td>\n",
              "      <td>1199</td>\n",
              "      <td>88.7</td>\n",
              "      <td>5.00</td>\n",
              "      <td>4.50</td>\n",
              "    </tr>\n",
              "    <tr>\n",
              "      <th>3</th>\n",
              "      <td>3</td>\n",
              "      <td>Maruti Ertiga VDI</td>\n",
              "      <td>Chennai</td>\n",
              "      <td>2012</td>\n",
              "      <td>87000</td>\n",
              "      <td>Diesel</td>\n",
              "      <td>Manual</td>\n",
              "      <td>First</td>\n",
              "      <td>20.77</td>\n",
              "      <td>1248</td>\n",
              "      <td>88.76</td>\n",
              "      <td>7.00</td>\n",
              "      <td>6.00</td>\n",
              "    </tr>\n",
              "    <tr>\n",
              "      <th>4</th>\n",
              "      <td>4</td>\n",
              "      <td>Audi A4 New 2.0 TDI Multitronic</td>\n",
              "      <td>Coimbatore</td>\n",
              "      <td>2013</td>\n",
              "      <td>40670</td>\n",
              "      <td>Diesel</td>\n",
              "      <td>Automatic</td>\n",
              "      <td>Second</td>\n",
              "      <td>15.2</td>\n",
              "      <td>1968</td>\n",
              "      <td>140.8</td>\n",
              "      <td>5.00</td>\n",
              "      <td>17.74</td>\n",
              "    </tr>\n",
              "    <tr>\n",
              "      <th>...</th>\n",
              "      <td>...</td>\n",
              "      <td>...</td>\n",
              "      <td>...</td>\n",
              "      <td>...</td>\n",
              "      <td>...</td>\n",
              "      <td>...</td>\n",
              "      <td>...</td>\n",
              "      <td>...</td>\n",
              "      <td>...</td>\n",
              "      <td>...</td>\n",
              "      <td>...</td>\n",
              "      <td>...</td>\n",
              "      <td>...</td>\n",
              "    </tr>\n",
              "    <tr>\n",
              "      <th>6014</th>\n",
              "      <td>6014</td>\n",
              "      <td>Maruti Swift VDI</td>\n",
              "      <td>Delhi</td>\n",
              "      <td>2014</td>\n",
              "      <td>27365</td>\n",
              "      <td>Diesel</td>\n",
              "      <td>Manual</td>\n",
              "      <td>First</td>\n",
              "      <td>28.4</td>\n",
              "      <td>1248</td>\n",
              "      <td>74</td>\n",
              "      <td>5.00</td>\n",
              "      <td>4.75</td>\n",
              "    </tr>\n",
              "    <tr>\n",
              "      <th>6015</th>\n",
              "      <td>6015</td>\n",
              "      <td>Hyundai Xcent 1.1 CRDi S</td>\n",
              "      <td>Jaipur</td>\n",
              "      <td>2015</td>\n",
              "      <td>100000</td>\n",
              "      <td>Diesel</td>\n",
              "      <td>Manual</td>\n",
              "      <td>First</td>\n",
              "      <td>24.4</td>\n",
              "      <td>1120</td>\n",
              "      <td>71</td>\n",
              "      <td>5.00</td>\n",
              "      <td>4.00</td>\n",
              "    </tr>\n",
              "    <tr>\n",
              "      <th>6016</th>\n",
              "      <td>6016</td>\n",
              "      <td>Mahindra Xylo D4 BSIV</td>\n",
              "      <td>Jaipur</td>\n",
              "      <td>2012</td>\n",
              "      <td>55000</td>\n",
              "      <td>Diesel</td>\n",
              "      <td>Manual</td>\n",
              "      <td>Second</td>\n",
              "      <td>14.0</td>\n",
              "      <td>2498</td>\n",
              "      <td>112</td>\n",
              "      <td>8.00</td>\n",
              "      <td>2.90</td>\n",
              "    </tr>\n",
              "    <tr>\n",
              "      <th>6017</th>\n",
              "      <td>6017</td>\n",
              "      <td>Maruti Wagon R VXI</td>\n",
              "      <td>Kolkata</td>\n",
              "      <td>2013</td>\n",
              "      <td>46000</td>\n",
              "      <td>Petrol</td>\n",
              "      <td>Manual</td>\n",
              "      <td>First</td>\n",
              "      <td>18.9</td>\n",
              "      <td>998</td>\n",
              "      <td>67.1</td>\n",
              "      <td>5.00</td>\n",
              "      <td>2.65</td>\n",
              "    </tr>\n",
              "    <tr>\n",
              "      <th>6018</th>\n",
              "      <td>6018</td>\n",
              "      <td>Chevrolet Beat Diesel</td>\n",
              "      <td>Hyderabad</td>\n",
              "      <td>2011</td>\n",
              "      <td>47000</td>\n",
              "      <td>Diesel</td>\n",
              "      <td>Manual</td>\n",
              "      <td>First</td>\n",
              "      <td>25.44</td>\n",
              "      <td>936</td>\n",
              "      <td>57.6</td>\n",
              "      <td>5.00</td>\n",
              "      <td>2.50</td>\n",
              "    </tr>\n",
              "  </tbody>\n",
              "</table>\n",
              "<p>5975 rows × 13 columns</p>\n",
              "</div>"
            ],
            "text/plain": [
              "      S.No.                              Name    Location  ...  Power  Seats Price\n",
              "0         0            Maruti Wagon R LXI CNG      Mumbai  ...  58.16   5.00  1.75\n",
              "1         1  Hyundai Creta 1.6 CRDi SX Option        Pune  ...  126.2   5.00 12.50\n",
              "2         2                      Honda Jazz V     Chennai  ...   88.7   5.00  4.50\n",
              "3         3                 Maruti Ertiga VDI     Chennai  ...  88.76   7.00  6.00\n",
              "4         4   Audi A4 New 2.0 TDI Multitronic  Coimbatore  ...  140.8   5.00 17.74\n",
              "...     ...                               ...         ...  ...    ...    ...   ...\n",
              "6014   6014                  Maruti Swift VDI       Delhi  ...     74   5.00  4.75\n",
              "6015   6015          Hyundai Xcent 1.1 CRDi S      Jaipur  ...     71   5.00  4.00\n",
              "6016   6016             Mahindra Xylo D4 BSIV      Jaipur  ...    112   8.00  2.90\n",
              "6017   6017                Maruti Wagon R VXI     Kolkata  ...   67.1   5.00  2.65\n",
              "6018   6018             Chevrolet Beat Diesel   Hyderabad  ...   57.6   5.00  2.50\n",
              "\n",
              "[5975 rows x 13 columns]"
            ]
          },
          "metadata": {
            "tags": []
          },
          "execution_count": 250
        }
      ]
    },
    {
      "cell_type": "code",
      "metadata": {
        "colab": {
          "base_uri": "https://localhost:8080/"
        },
        "id": "SVpG1dsy3u9w",
        "outputId": "85908d7c-efa1-4bcd-9bf9-d4fdb8f7fd03"
      },
      "source": [
        "df1.isna().sum() ##to confirm all non null values"
      ],
      "execution_count": null,
      "outputs": [
        {
          "output_type": "execute_result",
          "data": {
            "text/plain": [
              "S.No.                0\n",
              "Name                 0\n",
              "Location             0\n",
              "Year                 0\n",
              "Kilometers_Driven    0\n",
              "Fuel_Type            0\n",
              "Transmission         0\n",
              "Owner_Type           0\n",
              "Mileage              0\n",
              "Engine               0\n",
              "Power                0\n",
              "Seats                0\n",
              "Price                0\n",
              "dtype: int64"
            ]
          },
          "metadata": {
            "tags": []
          },
          "execution_count": 251
        }
      ]
    },
    {
      "cell_type": "code",
      "metadata": {
        "colab": {
          "base_uri": "https://localhost:8080/",
          "height": 419
        },
        "id": "-Grd2ZEni-bT",
        "outputId": "0a8de8db-455c-4aa4-d2b0-dfd4acac0446"
      },
      "source": [
        "#Creat a Car Model label with Year and Name columns \r\n",
        "df1['Model'] = df1['Year'].astype(str) + ' ' + df1['Name']\r\n",
        "df1"
      ],
      "execution_count": null,
      "outputs": [
        {
          "output_type": "execute_result",
          "data": {
            "text/html": [
              "<div>\n",
              "<style scoped>\n",
              "    .dataframe tbody tr th:only-of-type {\n",
              "        vertical-align: middle;\n",
              "    }\n",
              "\n",
              "    .dataframe tbody tr th {\n",
              "        vertical-align: top;\n",
              "    }\n",
              "\n",
              "    .dataframe thead th {\n",
              "        text-align: right;\n",
              "    }\n",
              "</style>\n",
              "<table border=\"1\" class=\"dataframe\">\n",
              "  <thead>\n",
              "    <tr style=\"text-align: right;\">\n",
              "      <th></th>\n",
              "      <th>S.No.</th>\n",
              "      <th>Name</th>\n",
              "      <th>Location</th>\n",
              "      <th>Year</th>\n",
              "      <th>Kilometers_Driven</th>\n",
              "      <th>Fuel_Type</th>\n",
              "      <th>Transmission</th>\n",
              "      <th>Owner_Type</th>\n",
              "      <th>Mileage</th>\n",
              "      <th>Engine</th>\n",
              "      <th>Power</th>\n",
              "      <th>Seats</th>\n",
              "      <th>Price</th>\n",
              "      <th>Model</th>\n",
              "    </tr>\n",
              "  </thead>\n",
              "  <tbody>\n",
              "    <tr>\n",
              "      <th>0</th>\n",
              "      <td>0</td>\n",
              "      <td>Maruti Wagon R LXI CNG</td>\n",
              "      <td>Mumbai</td>\n",
              "      <td>2010</td>\n",
              "      <td>72000</td>\n",
              "      <td>CNG</td>\n",
              "      <td>Manual</td>\n",
              "      <td>First</td>\n",
              "      <td>26.6</td>\n",
              "      <td>998</td>\n",
              "      <td>58.16</td>\n",
              "      <td>5.00</td>\n",
              "      <td>1.75</td>\n",
              "      <td>2010 Maruti Wagon R LXI CNG</td>\n",
              "    </tr>\n",
              "    <tr>\n",
              "      <th>1</th>\n",
              "      <td>1</td>\n",
              "      <td>Hyundai Creta 1.6 CRDi SX Option</td>\n",
              "      <td>Pune</td>\n",
              "      <td>2015</td>\n",
              "      <td>41000</td>\n",
              "      <td>Diesel</td>\n",
              "      <td>Manual</td>\n",
              "      <td>First</td>\n",
              "      <td>19.67</td>\n",
              "      <td>1582</td>\n",
              "      <td>126.2</td>\n",
              "      <td>5.00</td>\n",
              "      <td>12.50</td>\n",
              "      <td>2015 Hyundai Creta 1.6 CRDi SX Option</td>\n",
              "    </tr>\n",
              "    <tr>\n",
              "      <th>2</th>\n",
              "      <td>2</td>\n",
              "      <td>Honda Jazz V</td>\n",
              "      <td>Chennai</td>\n",
              "      <td>2011</td>\n",
              "      <td>46000</td>\n",
              "      <td>Petrol</td>\n",
              "      <td>Manual</td>\n",
              "      <td>First</td>\n",
              "      <td>18.2</td>\n",
              "      <td>1199</td>\n",
              "      <td>88.7</td>\n",
              "      <td>5.00</td>\n",
              "      <td>4.50</td>\n",
              "      <td>2011 Honda Jazz V</td>\n",
              "    </tr>\n",
              "    <tr>\n",
              "      <th>3</th>\n",
              "      <td>3</td>\n",
              "      <td>Maruti Ertiga VDI</td>\n",
              "      <td>Chennai</td>\n",
              "      <td>2012</td>\n",
              "      <td>87000</td>\n",
              "      <td>Diesel</td>\n",
              "      <td>Manual</td>\n",
              "      <td>First</td>\n",
              "      <td>20.77</td>\n",
              "      <td>1248</td>\n",
              "      <td>88.76</td>\n",
              "      <td>7.00</td>\n",
              "      <td>6.00</td>\n",
              "      <td>2012 Maruti Ertiga VDI</td>\n",
              "    </tr>\n",
              "    <tr>\n",
              "      <th>4</th>\n",
              "      <td>4</td>\n",
              "      <td>Audi A4 New 2.0 TDI Multitronic</td>\n",
              "      <td>Coimbatore</td>\n",
              "      <td>2013</td>\n",
              "      <td>40670</td>\n",
              "      <td>Diesel</td>\n",
              "      <td>Automatic</td>\n",
              "      <td>Second</td>\n",
              "      <td>15.2</td>\n",
              "      <td>1968</td>\n",
              "      <td>140.8</td>\n",
              "      <td>5.00</td>\n",
              "      <td>17.74</td>\n",
              "      <td>2013 Audi A4 New 2.0 TDI Multitronic</td>\n",
              "    </tr>\n",
              "    <tr>\n",
              "      <th>...</th>\n",
              "      <td>...</td>\n",
              "      <td>...</td>\n",
              "      <td>...</td>\n",
              "      <td>...</td>\n",
              "      <td>...</td>\n",
              "      <td>...</td>\n",
              "      <td>...</td>\n",
              "      <td>...</td>\n",
              "      <td>...</td>\n",
              "      <td>...</td>\n",
              "      <td>...</td>\n",
              "      <td>...</td>\n",
              "      <td>...</td>\n",
              "      <td>...</td>\n",
              "    </tr>\n",
              "    <tr>\n",
              "      <th>6014</th>\n",
              "      <td>6014</td>\n",
              "      <td>Maruti Swift VDI</td>\n",
              "      <td>Delhi</td>\n",
              "      <td>2014</td>\n",
              "      <td>27365</td>\n",
              "      <td>Diesel</td>\n",
              "      <td>Manual</td>\n",
              "      <td>First</td>\n",
              "      <td>28.4</td>\n",
              "      <td>1248</td>\n",
              "      <td>74</td>\n",
              "      <td>5.00</td>\n",
              "      <td>4.75</td>\n",
              "      <td>2014 Maruti Swift VDI</td>\n",
              "    </tr>\n",
              "    <tr>\n",
              "      <th>6015</th>\n",
              "      <td>6015</td>\n",
              "      <td>Hyundai Xcent 1.1 CRDi S</td>\n",
              "      <td>Jaipur</td>\n",
              "      <td>2015</td>\n",
              "      <td>100000</td>\n",
              "      <td>Diesel</td>\n",
              "      <td>Manual</td>\n",
              "      <td>First</td>\n",
              "      <td>24.4</td>\n",
              "      <td>1120</td>\n",
              "      <td>71</td>\n",
              "      <td>5.00</td>\n",
              "      <td>4.00</td>\n",
              "      <td>2015 Hyundai Xcent 1.1 CRDi S</td>\n",
              "    </tr>\n",
              "    <tr>\n",
              "      <th>6016</th>\n",
              "      <td>6016</td>\n",
              "      <td>Mahindra Xylo D4 BSIV</td>\n",
              "      <td>Jaipur</td>\n",
              "      <td>2012</td>\n",
              "      <td>55000</td>\n",
              "      <td>Diesel</td>\n",
              "      <td>Manual</td>\n",
              "      <td>Second</td>\n",
              "      <td>14.0</td>\n",
              "      <td>2498</td>\n",
              "      <td>112</td>\n",
              "      <td>8.00</td>\n",
              "      <td>2.90</td>\n",
              "      <td>2012 Mahindra Xylo D4 BSIV</td>\n",
              "    </tr>\n",
              "    <tr>\n",
              "      <th>6017</th>\n",
              "      <td>6017</td>\n",
              "      <td>Maruti Wagon R VXI</td>\n",
              "      <td>Kolkata</td>\n",
              "      <td>2013</td>\n",
              "      <td>46000</td>\n",
              "      <td>Petrol</td>\n",
              "      <td>Manual</td>\n",
              "      <td>First</td>\n",
              "      <td>18.9</td>\n",
              "      <td>998</td>\n",
              "      <td>67.1</td>\n",
              "      <td>5.00</td>\n",
              "      <td>2.65</td>\n",
              "      <td>2013 Maruti Wagon R VXI</td>\n",
              "    </tr>\n",
              "    <tr>\n",
              "      <th>6018</th>\n",
              "      <td>6018</td>\n",
              "      <td>Chevrolet Beat Diesel</td>\n",
              "      <td>Hyderabad</td>\n",
              "      <td>2011</td>\n",
              "      <td>47000</td>\n",
              "      <td>Diesel</td>\n",
              "      <td>Manual</td>\n",
              "      <td>First</td>\n",
              "      <td>25.44</td>\n",
              "      <td>936</td>\n",
              "      <td>57.6</td>\n",
              "      <td>5.00</td>\n",
              "      <td>2.50</td>\n",
              "      <td>2011 Chevrolet Beat Diesel</td>\n",
              "    </tr>\n",
              "  </tbody>\n",
              "</table>\n",
              "<p>5975 rows × 14 columns</p>\n",
              "</div>"
            ],
            "text/plain": [
              "      S.No.  ...                                  Model\n",
              "0         0  ...            2010 Maruti Wagon R LXI CNG\n",
              "1         1  ...  2015 Hyundai Creta 1.6 CRDi SX Option\n",
              "2         2  ...                      2011 Honda Jazz V\n",
              "3         3  ...                 2012 Maruti Ertiga VDI\n",
              "4         4  ...   2013 Audi A4 New 2.0 TDI Multitronic\n",
              "...     ...  ...                                    ...\n",
              "6014   6014  ...                  2014 Maruti Swift VDI\n",
              "6015   6015  ...          2015 Hyundai Xcent 1.1 CRDi S\n",
              "6016   6016  ...             2012 Mahindra Xylo D4 BSIV\n",
              "6017   6017  ...                2013 Maruti Wagon R VXI\n",
              "6018   6018  ...             2011 Chevrolet Beat Diesel\n",
              "\n",
              "[5975 rows x 14 columns]"
            ]
          },
          "metadata": {
            "tags": []
          },
          "execution_count": 252
        }
      ]
    },
    {
      "cell_type": "code",
      "metadata": {
        "colab": {
          "base_uri": "https://localhost:8080/"
        },
        "id": "Hm8tXaW9vKpG",
        "outputId": "c4886b45-fe62-44cd-adc1-754b922ccd74"
      },
      "source": [
        "df1.info()"
      ],
      "execution_count": null,
      "outputs": [
        {
          "output_type": "stream",
          "text": [
            "<class 'pandas.core.frame.DataFrame'>\n",
            "Int64Index: 5975 entries, 0 to 6018\n",
            "Data columns (total 14 columns):\n",
            " #   Column             Non-Null Count  Dtype  \n",
            "---  ------             --------------  -----  \n",
            " 0   S.No.              5975 non-null   int64  \n",
            " 1   Name               5975 non-null   object \n",
            " 2   Location           5975 non-null   object \n",
            " 3   Year               5975 non-null   int64  \n",
            " 4   Kilometers_Driven  5975 non-null   int64  \n",
            " 5   Fuel_Type          5975 non-null   object \n",
            " 6   Transmission       5975 non-null   object \n",
            " 7   Owner_Type         5975 non-null   object \n",
            " 8   Mileage            5975 non-null   object \n",
            " 9   Engine             5975 non-null   object \n",
            " 10  Power              5975 non-null   object \n",
            " 11  Seats              5975 non-null   float64\n",
            " 12  Price              5975 non-null   float64\n",
            " 13  Model              5975 non-null   object \n",
            "dtypes: float64(2), int64(3), object(9)\n",
            "memory usage: 700.2+ KB\n"
          ],
          "name": "stdout"
        }
      ]
    },
    {
      "cell_type": "code",
      "metadata": {
        "id": "ghFpxH6nyiba"
      },
      "source": [
        "#medianFiller = lambda x: x.fillna(x.median())\r\n",
        "#numeric_columns = df.select_dtypes(include=np.number).columns.tolist()\r\n",
        "#df[numeric_columns] = df[numeric_columns].apply(medianFiller,axis=0)\r\n",
        "#df.head(10)\r\n",
        "\r\n"
      ],
      "execution_count": null,
      "outputs": []
    },
    {
      "cell_type": "code",
      "metadata": {
        "colab": {
          "base_uri": "https://localhost:8080/"
        },
        "id": "XgYJ5JC3_2TO",
        "outputId": "8d69bda7-6a6f-4349-8536-5cfbb95fe9cf"
      },
      "source": [
        "df1['Power'].isnull().sum()"
      ],
      "execution_count": null,
      "outputs": [
        {
          "output_type": "execute_result",
          "data": {
            "text/plain": [
              "0"
            ]
          },
          "metadata": {
            "tags": []
          },
          "execution_count": 258
        }
      ]
    },
    {
      "cell_type": "code",
      "metadata": {
        "id": "xtiDlk9r_1t2"
      },
      "source": [
        ""
      ],
      "execution_count": null,
      "outputs": []
    },
    {
      "cell_type": "code",
      "metadata": {
        "colab": {
          "background_save": true
        },
        "id": "wQbUtRwqvWtr"
      },
      "source": [
        "df1['Year'] = df1['Year'].astype('int64')\r\n",
        "df1['Fuel_Type'] = df1['Fuel_Type'].astype('category')\r\n",
        "df1['Transmission'] = df1['Transmission'].astype('category')\r\n",
        "df1['Owner_Type'] = df1['Owner_Type'].astype('category')\r\n",
        "df1['Mileage'] = df1['Mileage'].astype('float64')\r\n",
        "df1['Engine'] = df1['Engine'].astype('int64')\r\n",
        "df1['Power'] = df1['Power'].astype('category')\r\n",
        "df1['Seats'] = df1['Seats'].astype('category')\r\n",
        "df1['Model'] = df1['Model'].astype('category')"
      ],
      "execution_count": null,
      "outputs": []
    },
    {
      "cell_type": "code",
      "metadata": {
        "id": "J_wb0MUknkEu"
      },
      "source": [
        "#To see the disctribution for cars of same model\r\n",
        "grouped_model = df1.groupby('Model').agg({'Price': ['mean', 'min', 'max']})\r\n",
        "print(grouped_model)"
      ],
      "execution_count": null,
      "outputs": []
    },
    {
      "cell_type": "code",
      "metadata": {
        "id": "vfN3qOpTFdg_"
      },
      "source": [
        "# Check the unique values in each column of the dataframe.\n",
        "df1.nunique()"
      ],
      "execution_count": null,
      "outputs": []
    },
    {
      "cell_type": "markdown",
      "metadata": {
        "id": "J_djNd3wqH0U"
      },
      "source": [
        "### Lets look at summary of our data"
      ]
    },
    {
      "cell_type": "code",
      "metadata": {
        "id": "AEwAiykQqH0V"
      },
      "source": [
        "pd.set_option('display.float_format', lambda x: '%.2f' % x) # to display numbers in digits\n",
        "df1.describe(include='all').T"
      ],
      "execution_count": null,
      "outputs": []
    },
    {
      "cell_type": "markdown",
      "metadata": {
        "id": "dspHaLtF6iqp"
      },
      "source": [
        "1. 2014 Maruti Swift VDI is the most popular car in the dataset\r\n",
        "2. Some ouliers in price and engine size exist. We can investigate further to drop them\r\n"
      ]
    },
    {
      "cell_type": "code",
      "metadata": {
        "id": "NLXhGMiP7NVW"
      },
      "source": [
        "df1[df1['Price']>100] "
      ],
      "execution_count": null,
      "outputs": []
    },
    {
      "cell_type": "markdown",
      "metadata": {
        "id": "sKiP32zi8GxT"
      },
      "source": [
        "1. Looks like credible outlier. We may leave them in"
      ]
    },
    {
      "cell_type": "markdown",
      "metadata": {
        "id": "bPT40VMJ8GIx"
      },
      "source": [
        ""
      ]
    },
    {
      "cell_type": "code",
      "metadata": {
        "id": "GV_X1MevsSJY"
      },
      "source": [
        "df1[df1['Name'].str.match('Mahindra XUV500 W8 2WD')].count() #55 of this car spread over many years\r\n",
        "df1[df1['Model'].str.match('2014 Maruti Swift VDI$')] #to verify frequency column above\r\n"
      ],
      "execution_count": null,
      "outputs": []
    },
    {
      "cell_type": "markdown",
      "metadata": {
        "id": "GMk8dc2n6iIB"
      },
      "source": [
        ""
      ]
    },
    {
      "cell_type": "code",
      "metadata": {
        "id": "hMlz8UUsuV8p"
      },
      "source": [
        ""
      ],
      "execution_count": null,
      "outputs": []
    },
    {
      "cell_type": "markdown",
      "metadata": {
        "id": "rO_scYvgbb7M"
      },
      "source": [
        "## Insights:\n",
        "\n",
        "- The \"Status\" column has 2 unique values. i.e. The values are \"Developing\" and \"Developed\"\n",
        "- The \"Country\" column has 133 unique values. i.e. The data is collected from 133 countries.\n",
        "- Year starts from 2000 to 2015\n",
        "- Average Life expectancy is 69 years\n",
        "\n",
        "\n",
        "\n",
        "- We already know that the Dtype (data-type) of the two columns: \"Status\" and \"Country\" is object. So, we need to convert them to categorical type ."
      ]
    },
    {
      "cell_type": "markdown",
      "metadata": {
        "id": "JZcZuUF_cYdX"
      },
      "source": [
        "## Before we further process the data, let's have a look at the graphical visualization of the data to understand it in a better way!"
      ]
    },
    {
      "cell_type": "markdown",
      "metadata": {
        "id": "9hahgR-7qH0c"
      },
      "source": [
        "## Univaraite analysis"
      ]
    },
    {
      "cell_type": "code",
      "metadata": {
        "id": "rpigdSTiqH0d"
      },
      "source": [
        "# While doing uni-variate analysis of numerical variables we want to study their central tendency \n",
        "# and dispersion.\n",
        "# Let us write a function that will help us create boxplot and histogram for any input numerical \n",
        "# variable.\n",
        "# This function takes the numerical column as the input and returns the boxplots \n",
        "# and histograms for the variable.\n",
        "# Let us see if this help us write faster and cleaner code.\n",
        "def histogram_boxplot(feature, figsize=(15,10), bins = None):\n",
        "    \"\"\" Boxplot and histogram combined\n",
        "    feature: 1-d feature array\n",
        "    figsize: size of fig (default (9,8))\n",
        "    bins: number of bins (default None / auto)\n",
        "    \"\"\"\n",
        "    sns.set(font_scale=2) # setting the font scale  of the seaborn\n",
        "    f2, (ax_box2, ax_hist2) = plt.subplots(nrows = 2, # Number of rows of the subplot grid= 2\n",
        "                                           sharex = True, # x-axis will be shared among all subplots\n",
        "                                           gridspec_kw = {\"height_ratios\": (.25, .75)}, \n",
        "                                           figsize = figsize \n",
        "                                           ) # creating the 2 subplots\n",
        "    sns.boxplot(feature, ax=ax_box2, showmeans=True, color='red') # boxplot will be created and a star will indicate the mean value of the column\n",
        "    sns.distplot(feature, kde=F, ax=ax_hist2, bins=bins) if bins else sns.distplot(feature, kde=False, ax=ax_hist2) # For histogram\n",
        "    ax_hist2.axvline(np.mean(feature), color='g', linestyle='--') # Add mean to the histogram\n",
        "    ax_hist2.axvline(np.median(feature), color='black', linestyle='-') # Add median to the histogram"
      ],
      "execution_count": null,
      "outputs": []
    },
    {
      "cell_type": "markdown",
      "metadata": {
        "id": "F-ZgoSJpqH0h"
      },
      "source": [
        "### Lets expore dependent varaible life expectancy"
      ]
    },
    {
      "cell_type": "code",
      "metadata": {
        "id": "1_C0GFyYqH0i"
      },
      "source": [
        "df1.head()"
      ],
      "execution_count": null,
      "outputs": []
    },
    {
      "cell_type": "code",
      "metadata": {
        "id": "-BIzl2GUqH0p"
      },
      "source": [
        "histogram_boxplot(df1.Price)"
      ],
      "execution_count": null,
      "outputs": []
    },
    {
      "cell_type": "markdown",
      "metadata": {
        "id": "8ryjWu4PqH0v"
      },
      "source": [
        "**Observation**\n",
        "\n",
        "- Life expectancy is left skewed which means some countries have life expectancy less than 45 years\n",
        "- Mean life expectancy is around 70 years\n",
        "\n",
        "\n"
      ]
    },
    {
      "cell_type": "markdown",
      "metadata": {
        "id": "eill0XvgqH0x"
      },
      "source": [
        "### lets us explore per capita Alcohol consumption"
      ]
    },
    {
      "cell_type": "code",
      "metadata": {
        "id": "MEU3QuRTqH0y"
      },
      "source": [
        "histogram_boxplot(df1.Engine)"
      ],
      "execution_count": null,
      "outputs": []
    },
    {
      "cell_type": "markdown",
      "metadata": {
        "id": "3ZmGU_bIqH06"
      },
      "source": [
        "* The average alcohol consumption is 3.75 liter\n",
        "* There are some outliers in which average alcohol consumption is more than 15 liters\n",
        "* The distribution is right skewed"
      ]
    },
    {
      "cell_type": "markdown",
      "metadata": {
        "id": "A5lKvPa6qH06"
      },
      "source": [
        "## Distribution of each numerical variable."
      ]
    },
    {
      "cell_type": "code",
      "metadata": {
        "colab": {
          "background_save": true,
          "base_uri": "https://localhost:8080/",
          "height": 607
        },
        "id": "d0wv0oLzqH07",
        "outputId": "5d140518-bbe1-461b-f95e-e29a915d50d6"
      },
      "source": [
        "# lets plot histogram of all plots\n",
        "from scipy.stats import norm\n",
        "all_col = df1.select_dtypes(include=np.number).columns.tolist()\n",
        "all_col.remove('S.No.')\n",
        "plt.figure(figsize=(17,75))\n",
        "\n",
        "for i in range(len(all_col)):\n",
        "    plt.subplot(18,3,i+1)\n",
        "    plt.hist(df1[all_col[i]])\n",
        "    #sns.displot(df[all_col[i]], kde=True)\n",
        "    plt.tight_layout()\n",
        "    plt.title(all_col[i],fontsize=25)\n",
        "    \n",
        "\n",
        "plt.show()"
      ],
      "execution_count": null,
      "outputs": [
        {
          "output_type": "display_data",
          "data": {
            "image/png": "[encoded data removed]",
            "text/plain": [
              "<Figure size 1224x5400 with 5 Axes>"
            ]
          },
          "metadata": {
            "tags": []
          }
        }
      ]
    },
    {
      "cell_type": "markdown",
      "metadata": {
        "id": "-AE6CTfxqH0-"
      },
      "source": [
        "**Observation**\n",
        "* Total Expenditure and Schooling is somewhat normal distribution\n",
        "* Hepatitis_B,Diphtheria and Income_composition_of_resources are left skewed and rest are right skewed\n",
        "* Interpretation of left and right skewed\n",
        "  -  Adult mortality is right skewed which means that there are some observations where adult mortality is very high (beyond 600). These observations introduces right tail in the distribution, thus making the distribution right skewed\n",
        "  - Polio is left skewed which means there are some countries where polio immunization is very low which introduces left tail therefore distribution becomes left skewed "
      ]
    },
    {
      "cell_type": "markdown",
      "metadata": {
        "id": "lNwn_2f6qH0_"
      },
      "source": [
        "## Lets look at outliers in every numerical column"
      ]
    },
    {
      "cell_type": "code",
      "metadata": {
        "colab": {
          "background_save": true
        },
        "id": "84doLHNUqH0_",
        "outputId": "ebbf3459-b1e7-4d6e-e7e0-c215688a8d7c"
      },
      "source": [
        "# outlier detection using boxplot\n",
        "plt.figure(figsize=(20,30))\n",
        "\n",
        "for i, variable in enumerate(numeric_columns):\n",
        "                     plt.subplot(5,4,i+1)\n",
        "                     plt.boxplot(df[variable],whis=1.5)\n",
        "                     plt.tight_layout()\n",
        "                     plt.title(variable)\n",
        "\n",
        "plt.show()"
      ],
      "execution_count": null,
      "outputs": [
        {
          "output_type": "display_data",
          "data": {
            "image/png": "[encoded data removed]",
            "text/plain": [
              "<Figure size 1440x2160 with 5 Axes>"
            ]
          },
          "metadata": {
            "tags": []
          }
        }
      ]
    },
    {
      "cell_type": "markdown",
      "metadata": {
        "id": "GBe8fUc7qH1D"
      },
      "source": [
        "* There are lower outliers in Life_expectancy,Hepatitis_B,Polio,Diphtheria ,Income_composition_of_resources and schooling\n",
        "* There is no outliers in BMI\n",
        "* All other numerical columns have upper outliers\n",
        "* We will treat these outliers as these might adversely affect the predictive power of linear model however in real life these outliers may be due to non-linear pattern in the data set or can be important information. Some time outliers in the independent variable can be adversely impact the linear model, this we can come to know by building model with and with outliers and comparing the model performances."
      ]
    },
    {
      "cell_type": "markdown",
      "metadata": {
        "id": "O32ykz2qqH1E"
      },
      "source": [
        "# Bivaraite Analysis"
      ]
    },
    {
      "cell_type": "markdown",
      "metadata": {
        "id": "NtxYBknWqH1F"
      },
      "source": [
        "# Let us first group all countries into continent"
      ]
    },
    {
      "cell_type": "code",
      "metadata": {
        "colab": {
          "background_save": true
        },
        "id": "NIxUJPFvqH1G",
        "outputId": "c9dda208-974f-419d-9065-4511710db2cb"
      },
      "source": [
        "## Lets group coutries into continenets\n",
        "#! pip install pycountry-convert\n",
        "import pycountry_convert as pc\n",
        "\n",
        "def country_to_continent(country_name):\n",
        "    '''\n",
        "    country_name : name of country for which continent is needed\n",
        "    '''\n",
        "    if '(' in country_name:\n",
        "        country_name = country_name.split(' ')[0]\n",
        "    country_alpha2 = pc.country_name_to_country_alpha2(country_name)\n",
        "    country_continent_code = pc.country_alpha2_to_continent_code(country_alpha2)\n",
        "    country_continent_name = pc.convert_continent_code_to_continent_name(country_continent_code)\n",
        "    return country_continent_name"
      ],
      "execution_count": null,
      "outputs": [
        {
          "output_type": "error",
          "ename": "ModuleNotFoundError",
          "evalue": "ignored",
          "traceback": [
            "\u001b[0;31m---------------------------------------------------------------------------\u001b[0m",
            "\u001b[0;31mModuleNotFoundError\u001b[0m                       Traceback (most recent call last)",
            "\u001b[0;32m<ipython-input-273-1b8701d30670>\u001b[0m in \u001b[0;36m<module>\u001b[0;34m()\u001b[0m\n\u001b[1;32m      1\u001b[0m \u001b[0;31m## Lets group coutries into continenets\u001b[0m\u001b[0;34m\u001b[0m\u001b[0;34m\u001b[0m\u001b[0;34m\u001b[0m\u001b[0m\n\u001b[1;32m      2\u001b[0m \u001b[0;31m#! pip install pycountry-convert\u001b[0m\u001b[0;34m\u001b[0m\u001b[0;34m\u001b[0m\u001b[0;34m\u001b[0m\u001b[0m\n\u001b[0;32m----> 3\u001b[0;31m \u001b[0;32mimport\u001b[0m \u001b[0mpycountry_convert\u001b[0m \u001b[0;32mas\u001b[0m \u001b[0mpc\u001b[0m\u001b[0;34m\u001b[0m\u001b[0;34m\u001b[0m\u001b[0m\n\u001b[0m\u001b[1;32m      4\u001b[0m \u001b[0;34m\u001b[0m\u001b[0m\n\u001b[1;32m      5\u001b[0m \u001b[0;32mdef\u001b[0m \u001b[0mcountry_to_continent\u001b[0m\u001b[0;34m(\u001b[0m\u001b[0mcountry_name\u001b[0m\u001b[0;34m)\u001b[0m\u001b[0;34m:\u001b[0m\u001b[0;34m\u001b[0m\u001b[0;34m\u001b[0m\u001b[0m\n",
            "\u001b[0;31mModuleNotFoundError\u001b[0m: No module named 'pycountry_convert'",
            "",
            "\u001b[0;31m---------------------------------------------------------------------------\u001b[0;32m\nNOTE: If your import is failing due to a missing package, you can\nmanually install dependencies using either !pip or !apt.\n\nTo view examples of installing some common dependencies, click the\n\"Open Examples\" button below.\n\u001b[0;31m---------------------------------------------------------------------------\u001b[0m\n"
          ]
        }
      ]
    },
    {
      "cell_type": "code",
      "metadata": {
        "colab": {
          "background_save": true
        },
        "id": "G09Ff-WBqH1K"
      },
      "source": [
        "df.Country.apply(country_to_continent)"
      ],
      "execution_count": null,
      "outputs": []
    },
    {
      "cell_type": "markdown",
      "metadata": {
        "id": "uhBj6LBXqH1O"
      },
      "source": [
        "* Above error is arising because names of the countries is different from what library has, so in order to resolve this we looked at all countries names that caused this error and hard coded them as shown below. "
      ]
    },
    {
      "cell_type": "code",
      "metadata": {
        "colab": {
          "background_save": true
        },
        "id": "RqB0pRtjqH1Q"
      },
      "source": [
        "loc = df.Country.tolist()\n",
        "continent = dict()\n",
        "# we are hard coding the continent of those countries which was giving error with country_to_continent function\n",
        "for cn in loc:\n",
        "    if cn == 'Republic of Korea':\n",
        "        continent[cn] = 'Asia'\n",
        "    elif cn == 'The former Yugoslav republic of Macedonia':\n",
        "        continent[cn] = 'Europe'\n",
        "    elif cn == 'Timor-Leste':\n",
        "        continent[cn] = 'Asia'\n",
        "    else:\n",
        "        continent[cn] = country_to_continent(cn)\n"
      ],
      "execution_count": null,
      "outputs": []
    },
    {
      "cell_type": "code",
      "metadata": {
        "colab": {
          "background_save": true
        },
        "id": "kTrJiOzxqH1X"
      },
      "source": [
        "# mapping every country to its continent\n",
        "df['Continent'] = df['Country'].map(continent)"
      ],
      "execution_count": null,
      "outputs": []
    },
    {
      "cell_type": "code",
      "metadata": {
        "colab": {
          "background_save": true
        },
        "id": "PZSl3dbcqH1b"
      },
      "source": [
        "# let us look at unique continents\n",
        "print(df['Country'].map(continent).unique())"
      ],
      "execution_count": null,
      "outputs": []
    },
    {
      "cell_type": "markdown",
      "metadata": {
        "id": "SPAtdDVPqH1f"
      },
      "source": [
        "## Lets look at correlations"
      ]
    },
    {
      "cell_type": "code",
      "metadata": {
        "colab": {
          "background_save": true
        },
        "id": "LmjTu-ozqH1g"
      },
      "source": [
        "numeric_columns = df.select_dtypes(include=np.number).columns.tolist()\n",
        "numeric_columns.remove('Year') # dropping year column as it is temporal variable\n",
        "corr = df[numeric_columns].corr().sort_values(by=['Life_expectancy'],ascending=False) # sorting correlations w.r.t life expectancy  \n",
        "\n",
        "\n",
        "# Set up the matplotlib figure\n",
        "f, ax = plt.subplots(figsize=(28, 15))\n",
        "\n",
        "# Draw the heatmap with the mask and correct aspect ratio\n",
        "sns.heatmap(corr, \n",
        "            cmap='seismic', annot=True,fmt=\".1f\",vmin=-1, vmax=1, center= 0,\n",
        "            square=False, linewidths=.7, cbar_kws={\"shrink\": .5});"
      ],
      "execution_count": null,
      "outputs": []
    },
    {
      "cell_type": "markdown",
      "metadata": {
        "id": "Kmt2DS6iqH1k"
      },
      "source": [
        "**Observations**\n",
        "* Life expectancy is highly negatively correlated with Adult Mortality, HIV AIDs, which means that \n",
        "  as adult mortality and HIV death (0-4 years) increases, life expectancy of countries tend to decrease\n",
        "* Life expectancy is highly positively correlated with Schooling, Income_composition of resources and BMI which means that \n",
        "  as schooling years of citizens in a country , income composition of resources and bmi increases life expectancy tend to         increase \n"
      ]
    },
    {
      "cell_type": "markdown",
      "metadata": {
        "id": "EXeqlRxzqH1l"
      },
      "source": [
        "## Let us look at the graph of those variables that are highly correlated with life expectancy"
      ]
    },
    {
      "cell_type": "markdown",
      "metadata": {
        "id": "P2JNbl0vqH1l"
      },
      "source": [
        "### Life expectancy vs Hiv_Aids vs Status"
      ]
    },
    {
      "cell_type": "code",
      "metadata": {
        "colab": {
          "background_save": true
        },
        "id": "-eso8XKuqH1m"
      },
      "source": [
        "# Lets look visualize the relationship \n",
        "plt.figure(figsize=(15,13))\n",
        "sns.scatterplot(y='Life_expectancy', x='HIV_AIDS', hue='Status', data=df);"
      ],
      "execution_count": null,
      "outputs": []
    },
    {
      "cell_type": "markdown",
      "metadata": {
        "id": "uQe-C33TqH1y"
      },
      "source": [
        "* developed countries have very low cases of HIV AIDs"
      ]
    },
    {
      "cell_type": "markdown",
      "metadata": {
        "id": "ew7Gw_RBqH10"
      },
      "source": [
        "### Life expectancy vs hiv_ Aids vs Continent"
      ]
    },
    {
      "cell_type": "code",
      "metadata": {
        "colab": {
          "background_save": true
        },
        "id": "-PunK0P-qH11"
      },
      "source": [
        "\n",
        "plt.figure(figsize=(15,13))\n",
        "sns.scatterplot(y='Life_expectancy', x='HIV_AIDS', hue='Continent', data=df);"
      ],
      "execution_count": null,
      "outputs": []
    },
    {
      "cell_type": "markdown",
      "metadata": {
        "id": "_HNdo7ELqH1_"
      },
      "source": [
        "* African countries have high HIV AIDs cases \n",
        "* There is one north American country whose life expectancy is very low once and HIV AIDS death is very low, lets look at it"
      ]
    },
    {
      "cell_type": "code",
      "metadata": {
        "colab": {
          "background_save": true
        },
        "id": "abcL_tNUqH2A"
      },
      "source": [
        "df[(df.Life_expectancy <40)& (df.HIV_AIDS<10) & (df.Continent =='North America')]"
      ],
      "execution_count": null,
      "outputs": []
    },
    {
      "cell_type": "markdown",
      "metadata": {
        "id": "IG1mrMxwqH2G"
      },
      "source": [
        "* Haiti is only the North American Country whose life expectancy is very low that is 36.300 in the year 2010. This can be investigated further."
      ]
    },
    {
      "cell_type": "markdown",
      "metadata": {
        "id": "ij0sIKjBqH2H"
      },
      "source": [
        "### Life expectancy vs Adult Mortality vs Status"
      ]
    },
    {
      "cell_type": "code",
      "metadata": {
        "colab": {
          "background_save": true
        },
        "id": "tIcsucCbqH2I"
      },
      "source": [
        "# Lets look at these relationship in graph\n",
        "plt.figure(figsize=(15,13))\n",
        "sns.scatterplot(y='Life_expectancy', x='Adult_Mortality', hue='Status', data=df);"
      ],
      "execution_count": null,
      "outputs": []
    },
    {
      "cell_type": "markdown",
      "metadata": {
        "id": "TbcjEDQ5qH2N"
      },
      "source": [
        "* Developed country have lower Adult Mortality"
      ]
    },
    {
      "cell_type": "code",
      "metadata": {
        "colab": {
          "background_save": true
        },
        "id": "Ac4yW83fqH2P"
      },
      "source": [
        "# Lets look at these relationship in graph\n",
        "plt.figure(figsize=(15,13))\n",
        "sns.scatterplot(y='Life_expectancy', x='Adult_Mortality', hue='Continent', data=df);"
      ],
      "execution_count": null,
      "outputs": []
    },
    {
      "cell_type": "markdown",
      "metadata": {
        "id": "Kptf5mi7qH2V"
      },
      "source": [
        "* Some Asian countries have life expectancy higher than 80 years, lets look at them\n",
        "* Most of African countries have higher adult mortality and life expectancy lower than 65 years"
      ]
    },
    {
      "cell_type": "code",
      "metadata": {
        "colab": {
          "background_save": true
        },
        "id": "XytTlEgMqH2W"
      },
      "source": [
        "print(df[(df.Continent == 'Asia') & (df.Life_expectancy > 80)]['Country'].unique())"
      ],
      "execution_count": null,
      "outputs": []
    },
    {
      "cell_type": "markdown",
      "metadata": {
        "id": "EYIxYl1VqH2d"
      },
      "source": [
        "* Japan, Cyprus, Israel, Japan, Republic of Korea, Singapore are developed country of Asia and their life expectancy is higher than 80 years"
      ]
    },
    {
      "cell_type": "markdown",
      "metadata": {
        "id": "6jhpZ5fQqH2e"
      },
      "source": [
        "### Life_expectancy vs Schooling vs Status"
      ]
    },
    {
      "cell_type": "code",
      "metadata": {
        "colab": {
          "background_save": true
        },
        "id": "GrxzOkw6qH2f"
      },
      "source": [
        "# Lets look at these relationship in graph\n",
        "plt.figure(figsize=(15,13))\n",
        "sns.scatterplot(y='Life_expectancy', x='Schooling', hue='Status', data=df);"
      ],
      "execution_count": null,
      "outputs": []
    },
    {
      "cell_type": "markdown",
      "metadata": {
        "id": "PeTiK7M4qH2l"
      },
      "source": [
        "* Majority of Developed countries have schooling of more than 13 years\n",
        "* Developing countries have higher variance in schooling years"
      ]
    },
    {
      "cell_type": "markdown",
      "metadata": {
        "id": "UO5R4gHtqH2m"
      },
      "source": [
        "## Life_expectancy vs Schooling vs Continent"
      ]
    },
    {
      "cell_type": "code",
      "metadata": {
        "colab": {
          "background_save": true
        },
        "id": "lk7vR-RjqH2n"
      },
      "source": [
        "# Lets look at these relationship in graph\n",
        "plt.figure(figsize=(15,13))\n",
        "sns.scatterplot(y='Life_expectancy', x='Schooling', hue='Continent', data=df);"
      ],
      "execution_count": null,
      "outputs": []
    },
    {
      "cell_type": "markdown",
      "metadata": {
        "id": "QldK-9rzqH2x"
      },
      "source": [
        "* Majority of Europian countries ,  Some of Oceania countries have schooling years more than 15 years\n",
        "* African countries have lower Schooling years\n",
        "* Some observation have 0 schooling years which we can explore further"
      ]
    },
    {
      "cell_type": "markdown",
      "metadata": {
        "id": "9Ay7NM8GqH2y"
      },
      "source": [
        "## Life_expectancy vs Income_composition_of_resources vs Status"
      ]
    },
    {
      "cell_type": "code",
      "metadata": {
        "colab": {
          "background_save": true
        },
        "id": "VGYwXgHMqH20"
      },
      "source": [
        "#\n",
        "plt.figure(figsize=(15,13))\n",
        "\n",
        "sns.scatterplot(y='Life_expectancy', x='Income_composition_of_resources', hue='Status', data=df);"
      ],
      "execution_count": null,
      "outputs": []
    },
    {
      "cell_type": "markdown",
      "metadata": {
        "id": "jxo5f2o1qH2-"
      },
      "source": [
        "* Developed countries have higher Income composition of resources"
      ]
    },
    {
      "cell_type": "markdown",
      "metadata": {
        "id": "jmyZiqZtqH2_"
      },
      "source": [
        "## Life_expectancy vs Income_composition_of_resources vs Continent"
      ]
    },
    {
      "cell_type": "code",
      "metadata": {
        "colab": {
          "background_save": true
        },
        "id": "P5iW1ydRqH3A"
      },
      "source": [
        "#\n",
        "plt.figure(figsize=(15,13))\n",
        "\n",
        "sns.scatterplot(y='Life_expectancy', x='Income_composition_of_resources', hue='Continent', data=df);"
      ],
      "execution_count": null,
      "outputs": []
    },
    {
      "cell_type": "markdown",
      "metadata": {
        "id": "SerdVbCDqH3K"
      },
      "source": [
        "* African countries having lower life expectancy have low income composition of resources"
      ]
    },
    {
      "cell_type": "markdown",
      "metadata": {
        "id": "sr-IUI-DqH3L"
      },
      "source": [
        "## Year vs Life Expecatncy"
      ]
    },
    {
      "cell_type": "code",
      "metadata": {
        "colab": {
          "background_save": true
        },
        "id": "MRcZMFIBqH3M"
      },
      "source": [
        "# How does life expectancy vary year by year\n",
        "plt.figure(figsize=(15,7))\n",
        "sns.lineplot(x='Year', y='Life_expectancy',\n",
        "             data=df);\n"
      ],
      "execution_count": null,
      "outputs": []
    },
    {
      "cell_type": "markdown",
      "metadata": {
        "id": "yw1a1NWpqH3S"
      },
      "source": [
        "* Overall life expectancy of the world population is increasing  with time ( years )"
      ]
    },
    {
      "cell_type": "markdown",
      "metadata": {
        "id": "LsHOwYEnqH3T"
      },
      "source": [
        "## Year vs Life_expectancy vs Status"
      ]
    },
    {
      "cell_type": "code",
      "metadata": {
        "colab": {
          "background_save": true
        },
        "id": "pW5JR1iJqH3U"
      },
      "source": [
        "# How does life expectancy vary year by year\n",
        "plt.figure(figsize=(15,7))\n",
        "sns.lineplot(x='Year', y='Life_expectancy',hue='Status',\n",
        "             data=df);"
      ],
      "execution_count": null,
      "outputs": []
    },
    {
      "cell_type": "markdown",
      "metadata": {
        "id": "xlhxu3DNqH3f"
      },
      "source": [
        "* In both developing countries and developed countries life expectancy has been increasing over the years\n",
        "* Developing countries have lower life expectancy than developed countries"
      ]
    },
    {
      "cell_type": "markdown",
      "metadata": {
        "id": "5VweA-HhqH3f"
      },
      "source": [
        "## Year vs Life_expectancy vs Continent"
      ]
    },
    {
      "cell_type": "code",
      "metadata": {
        "colab": {
          "background_save": true
        },
        "id": "RTBzYrb1qH3g"
      },
      "source": [
        "# How does life expectancy vary year by year\n",
        "plt.figure(figsize=(15,7))\n",
        "sns.lineplot(x='Year', y='Life_expectancy',hue='Continent',ci=0,\n",
        "             data=df);"
      ],
      "execution_count": null,
      "outputs": []
    },
    {
      "cell_type": "markdown",
      "metadata": {
        "id": "jjLkXZ6KqH3j"
      },
      "source": [
        "* African countries have lower life expectancy than other countries but its slope of increase in life expectancy is higher than all other continents"
      ]
    },
    {
      "cell_type": "markdown",
      "metadata": {
        "id": "y5lZ4ARbqH3k"
      },
      "source": [
        "# Year vs Infant_deaths vs Continent"
      ]
    },
    {
      "cell_type": "code",
      "metadata": {
        "colab": {
          "background_save": true
        },
        "id": "OTM-sJqmqH3l"
      },
      "source": [
        "# How does life expectancy vary year by year\n",
        "plt.figure(figsize=(15,13))\n",
        "sns.lineplot(x='Year', y='Infant_deaths',hue='Continent',ci=0,\n",
        "             data=df);"
      ],
      "execution_count": null,
      "outputs": []
    },
    {
      "cell_type": "markdown",
      "metadata": {
        "id": "gCV5FiwBqH3r"
      },
      "source": [
        "* Asian Countries have witnessed sharp decline in infants deaths\n",
        "* In African countries also infants death have decreased over the years\n",
        "* European , North American and Oceanic countries already had very lower infants deaths"
      ]
    },
    {
      "cell_type": "markdown",
      "metadata": {
        "id": "VARh18TnqH3s"
      },
      "source": [
        "## Year vs Schooling vs Status"
      ]
    },
    {
      "cell_type": "code",
      "metadata": {
        "colab": {
          "background_save": true
        },
        "id": "OwgK4lNuqH3t"
      },
      "source": [
        "# How does life expectancy vary year by year\n",
        "plt.figure(figsize=(15,7))\n",
        "sns.lineplot(x='Year', y='Schooling',hue='Status',ci=0,\n",
        "             data=df);"
      ],
      "execution_count": null,
      "outputs": []
    },
    {
      "cell_type": "markdown",
      "metadata": {
        "id": "lH31hxvNqH32"
      },
      "source": [
        "* Schooling years of citizens in both developed and developing countries have increased over the years"
      ]
    },
    {
      "cell_type": "markdown",
      "metadata": {
        "id": "4CicvfdrqH33"
      },
      "source": [
        "## Year vs Schooling vs Continent"
      ]
    },
    {
      "cell_type": "code",
      "metadata": {
        "colab": {
          "background_save": true
        },
        "id": "NEJD2NBZqH34"
      },
      "source": [
        "# How does life expectancy vary year by year\n",
        "plt.figure(figsize=(15,14))\n",
        "sns.lineplot(x='Year', y='Schooling',hue='Continent',ci=0,\n",
        "             data=df);"
      ],
      "execution_count": null,
      "outputs": []
    },
    {
      "cell_type": "markdown",
      "metadata": {
        "id": "-NwTH3zUqH3_"
      },
      "source": [
        "* In all continents , Schooling years has been increasing over the years\n",
        "* The Oceania countries have witnessed sudden downfall and increase in schooling years from 2012 to 2014 which can be explored further\n",
        "* Increase in schooling years in African countries has been more than other continents"
      ]
    },
    {
      "cell_type": "markdown",
      "metadata": {
        "id": "vnkwDe64qH4A"
      },
      "source": [
        "## Year vs HIV_AIDS vs Continent"
      ]
    },
    {
      "cell_type": "code",
      "metadata": {
        "colab": {
          "background_save": true
        },
        "id": "2l8loj8vqH4A"
      },
      "source": [
        "# How does life expectancy vary year by year\n",
        "plt.figure(figsize=(15,14))\n",
        "sns.lineplot(x='Year', y='HIV_AIDS',hue='Continent',ci=0,\n",
        "             data=df);"
      ],
      "execution_count": null,
      "outputs": []
    },
    {
      "cell_type": "markdown",
      "metadata": {
        "id": "pzm5zBqsqH4O"
      },
      "source": [
        "* There is sharp decline in HIV Aids deaths in African countries"
      ]
    },
    {
      "cell_type": "markdown",
      "metadata": {
        "id": "gzeetTJqqH4O"
      },
      "source": [
        "## Life expectancy of countries vs staus"
      ]
    },
    {
      "cell_type": "code",
      "metadata": {
        "colab": {
          "background_save": true
        },
        "id": "SF8SiAtEqH4P"
      },
      "source": [
        "df_hm =df.pivot_table(index = 'Continent',columns ='Status',values =\"Life_expectancy\",aggfunc=np.median)\n",
        "# Draw a heatmap \n",
        "f, ax = plt.subplots(figsize=(15,10))\n",
        "sns.heatmap(df_hm,   cmap='coolwarm',linewidths=.5, annot=True, ax=ax);"
      ],
      "execution_count": null,
      "outputs": []
    },
    {
      "cell_type": "markdown",
      "metadata": {
        "id": "LNHi51U7fnUb"
      },
      "source": [
        "**Observation**\n",
        "\n",
        "- Developed countries from Asia has higher life expectancy than developed countries from Europe and North America\n"
      ]
    },
    {
      "cell_type": "markdown",
      "metadata": {
        "id": "SnthwKQBqH4a"
      },
      "source": [
        "## Life_expectancy vs Continent vs Status"
      ]
    },
    {
      "cell_type": "code",
      "metadata": {
        "colab": {
          "background_save": true
        },
        "id": "UTaUN3inqH4b"
      },
      "source": [
        "plt.figure(figsize=(17,9))\n",
        "sns.boxplot(y='Status',x=\"Life_expectancy\",data=df)\n",
        "plt.show()"
      ],
      "execution_count": null,
      "outputs": []
    },
    {
      "cell_type": "code",
      "metadata": {
        "colab": {
          "background_save": true
        },
        "id": "fv0z8dflqH4i"
      },
      "source": [
        "plt.figure(figsize=(17,9))\n",
        "sns.boxplot(y=\"Continent\",x=\"Life_expectancy\",data=df,hue='Status')\n",
        "plt.show()"
      ],
      "execution_count": null,
      "outputs": []
    },
    {
      "cell_type": "markdown",
      "metadata": {
        "id": "b3s5LcfZwC40"
      },
      "source": [
        "** Observation**\n",
        "\n",
        "- The life expectancy in the developed countries is much higher than the developing countries.\n",
        "- The median value of life expectancy (approximately as can be seen from the boxplot) for:\n",
        "     - Developing: 69 years\n",
        "     - Developed: 78 years\n",
        "- Asian developed countries have life expectancy higher than European and north American developed countries"
      ]
    },
    {
      "cell_type": "markdown",
      "metadata": {
        "id": "1THqC335b4Yi"
      },
      "source": [
        "\n",
        "# Data Preparation"
      ]
    },
    {
      "cell_type": "markdown",
      "metadata": {
        "id": "Wx7z3S4kqH4p"
      },
      "source": [
        "## Fix data type"
      ]
    },
    {
      "cell_type": "code",
      "metadata": {
        "colab": {
          "background_save": true
        },
        "id": "h6h_oeEmqH4q"
      },
      "source": [
        "# Converting object type column to category type\n",
        "df['Country'] = df['Country'].astype('category')\n",
        "df['Status'] = df['Status'].astype('category')\n",
        "df['Continent'] = df['Continent'].astype('category')"
      ],
      "execution_count": null,
      "outputs": []
    },
    {
      "cell_type": "markdown",
      "metadata": {
        "id": "ogPt_Vz1qH58"
      },
      "source": [
        "## Outliers Treatment"
      ]
    },
    {
      "cell_type": "code",
      "metadata": {
        "colab": {
          "background_save": true
        },
        "id": "7Jbsz3J-qH59"
      },
      "source": [
        "# Lets treat outliers by flooring and capping\n",
        "def treat_outliers(df,col):\n",
        "    '''\n",
        "    treats outliers in a varaible\n",
        "    col: str, name of the numerical varaible\n",
        "    df: data frame\n",
        "    col: name of the column\n",
        "    '''\n",
        "    Q1=df[col].quantile(0.25) # 25th quantile\n",
        "    Q3=df[col].quantile(0.75)  # 75th quantile\n",
        "    IQR=Q3-Q1\n",
        "    Lower_Whisker = Q1 - 1.5*IQR \n",
        "    Upper_Whisker = Q3 + 1.5*IQR\n",
        "    df[col] = np.clip(df[col], Lower_Whisker, Upper_Whisker) # all the values samller than Lower_Whisker will be assigned value of Lower_whisker \n",
        "                                                            # and all the values above upper_whishker will be assigned value of upper_Whisker \n",
        "    return df\n",
        "\n",
        "def treat_outliers_all(df, col_list):\n",
        "    '''\n",
        "    treat outlier in all numerical varaibles\n",
        "    col_list: list of numerical varaibles\n",
        "    df: data frame\n",
        "    '''\n",
        "    for c in col_list:\n",
        "        df = treat_outliers(df,c)\n",
        "        \n",
        "    return df\n",
        "    "
      ],
      "execution_count": null,
      "outputs": []
    },
    {
      "cell_type": "markdown",
      "metadata": {
        "id": "H8qLpccQqH6D"
      },
      "source": [
        "### Treating the outiers"
      ]
    },
    {
      "cell_type": "code",
      "metadata": {
        "colab": {
          "background_save": true
        },
        "id": "bWFUEC16qH6F"
      },
      "source": [
        "numerical_col = df.select_dtypes(include=np.number).columns.tolist()\n",
        "df = treat_outliers_all(df,numerical_col)"
      ],
      "execution_count": null,
      "outputs": []
    },
    {
      "cell_type": "code",
      "metadata": {
        "colab": {
          "background_save": true
        },
        "id": "XoKCoXeDqH6O"
      },
      "source": [
        "# lets look at box plot to see if outliers has been treated or not\n",
        "plt.figure(figsize=(20,30))\n",
        "\n",
        "for i, variable in enumerate(numeric_columns):\n",
        "                     plt.subplot(5,4,i+1)\n",
        "                     plt.boxplot(df[variable],whis=1.5)\n",
        "                     plt.tight_layout()\n",
        "                     plt.title(variable)\n",
        "\n",
        "plt.show()"
      ],
      "execution_count": null,
      "outputs": []
    },
    {
      "cell_type": "markdown",
      "metadata": {
        "id": "cL1MckwRqH6z"
      },
      "source": [
        "* Outliers has been treated"
      ]
    },
    {
      "cell_type": "markdown",
      "metadata": {
        "id": "xchyVDRQqH7S"
      },
      "source": [
        "# Model Building"
      ]
    },
    {
      "cell_type": "code",
      "metadata": {
        "colab": {
          "background_save": true
        },
        "id": "8YDSHU1OqH7T"
      },
      "source": [
        "df.head()"
      ],
      "execution_count": null,
      "outputs": []
    },
    {
      "cell_type": "code",
      "metadata": {
        "colab": {
          "background_save": true
        },
        "id": "372WHRhJGpj4"
      },
      "source": [
        "#Defining X and y variables\n",
        "X = df.drop(['Life_expectancy','Country'], axis=1)\n",
        "y = df[['Life_expectancy']]\n",
        "\n",
        "print(X.head())\n",
        "print(y.head())"
      ],
      "execution_count": null,
      "outputs": []
    },
    {
      "cell_type": "code",
      "metadata": {
        "colab": {
          "background_save": true
        },
        "id": "jv1XDAV8zQWV"
      },
      "source": [
        "print(X.shape)\n",
        "print(y.shape)"
      ],
      "execution_count": null,
      "outputs": []
    },
    {
      "cell_type": "markdown",
      "metadata": {
        "id": "a2DTl39SqH7q"
      },
      "source": [
        "## Create Dummy Variables\n",
        "Values like 'Europe' cannot be read into an equation. Using substitutes like 1 for Continent_Asia , 2 for Continent_Europe and so on would end up implying that continent_europe have more importance than Continent asia! we dont want to impose such an baseless assumption!\n",
        "\n",
        "So we create 3 simple true or false columns with titles equivalent to \"Is this person from Europe?\", \"Is this person American?\" and so on. These will be used as independent variables without imposing any kind of ordering between the three regions.\n",
        "\n",
        "\n"
      ]
    },
    {
      "cell_type": "code",
      "metadata": {
        "colab": {
          "background_save": true
        },
        "id": "ibploFW2qH7r"
      },
      "source": [
        "X = pd.get_dummies(X, columns=['Continent', 'Status'], drop_first=True)\n",
        "X.head()"
      ],
      "execution_count": null,
      "outputs": []
    },
    {
      "cell_type": "code",
      "metadata": {
        "colab": {
          "background_save": true
        },
        "id": "CBXfTtAPGoaF"
      },
      "source": [
        "#split the data into train and test\n",
        "from sklearn.model_selection import train_test_split\n",
        "X_train, X_test, y_train, y_test = train_test_split(X, y, test_size=0.3, random_state=42)"
      ],
      "execution_count": null,
      "outputs": []
    },
    {
      "cell_type": "code",
      "metadata": {
        "colab": {
          "background_save": true
        },
        "id": "Wahj7soYqH73"
      },
      "source": [
        "X_train.head()"
      ],
      "execution_count": null,
      "outputs": []
    },
    {
      "cell_type": "markdown",
      "metadata": {
        "id": "GFPrtqxgCGPX"
      },
      "source": [
        "# Choose Model, Train and Evaluate"
      ]
    },
    {
      "cell_type": "code",
      "metadata": {
        "colab": {
          "background_save": true
        },
        "id": "Ycx7GmR3HInW"
      },
      "source": [
        "#Fitting linear model\n",
        "\n",
        "from sklearn.linear_model import LinearRegression\n",
        "linearregression = LinearRegression()                                    \n",
        "linearregression.fit(X_train, y_train)                                  \n",
        "\n",
        "print(\"Intercept of the linear equation:\", linearregression.intercept_) \n",
        "print(\"\\nCOefficients of the equation are:\", linearregression.coef_)\n",
        "\n",
        "from sklearn.metrics import mean_absolute_error, mean_squared_error, r2_score\n",
        "\n",
        "pred = linearregression.predict(X_test)                              "
      ],
      "execution_count": null,
      "outputs": []
    },
    {
      "cell_type": "markdown",
      "metadata": {
        "id": "X5Vr3ez5qH8J"
      },
      "source": [
        "## lets look at model performances"
      ]
    },
    {
      "cell_type": "code",
      "metadata": {
        "colab": {
          "background_save": true
        },
        "id": "vVBBaPtf-BZd"
      },
      "source": [
        "# Mean Absolute Error on test\n",
        "mean_absolute_error(y_test, pred)\n"
      ],
      "execution_count": null,
      "outputs": []
    },
    {
      "cell_type": "markdown",
      "metadata": {
        "id": "BiDMxK2S-Kmu"
      },
      "source": [
        "The mean absolute error (MAE) is the simplest regression error metric to understand. We'll calculate the residual for every data point, taking only the absolute value of each so that negative and positive residuals do not cancel out. We then take the average of all these residuals. Effectively, MAE describes the typical magnitude of the residuals."
      ]
    },
    {
      "cell_type": "code",
      "metadata": {
        "colab": {
          "background_save": true
        },
        "id": "1rXSdrBO-Coh"
      },
      "source": [
        "# RMSE on test data\n",
        "mean_squared_error(y_test, pred)**0.5"
      ],
      "execution_count": null,
      "outputs": []
    },
    {
      "cell_type": "markdown",
      "metadata": {
        "id": "f_cmu5Q--T2U"
      },
      "source": [
        "The root mean square error (RMSE) is just like the MAE, but squares the difference before summing them all instead of using the absolute value. And then takes the square root of the value."
      ]
    },
    {
      "cell_type": "code",
      "metadata": {
        "colab": {
          "background_save": true
        },
        "id": "UYZ9d_QS-DQJ"
      },
      "source": [
        "# R2 Squared: on test\n",
        "r2_score(y_test, pred)"
      ],
      "execution_count": null,
      "outputs": []
    },
    {
      "cell_type": "markdown",
      "metadata": {
        "id": "V9VCPjkM-2M_"
      },
      "source": [
        "- R^2 (coefficient of determination) regression score function.\n",
        "\n",
        "- Best possible score is 1.0 and it can be negative (because the model can be arbitrarily worse). A constant model that always predicts the expected value of y, disregarding the input features, would get a R^2 score of 0.0.\n",
        "\n",
        "- R^2 value is 0.87 which means that in this model independent variables are able to explain 87% of variances in dependent variable"
      ]
    },
    {
      "cell_type": "markdown",
      "metadata": {
        "id": "1lqSkj1q51At"
      },
      "source": [
        "# Conclusion"
      ]
    },
    {
      "cell_type": "markdown",
      "metadata": {
        "id": "doso3U2753mZ"
      },
      "source": [
        "- The Training and testing scores are around 87% and both scores are comparable, hence the model is a good fit.\n",
        "\n",
        "- R2_score is 0.87, that explains 87% of total variation in the dataset. So, overall the model is very satisfactory."
      ]
    },
    {
      "cell_type": "markdown",
      "metadata": {
        "id": "YE57Jz2IyMvp"
      },
      "source": [
        "# Add-on: **statsmodels**\n",
        "\n",
        "- Here is the complete syntax to perform the linear regression in Python using statsmodels.\n",
        "- Statsmodels is a Python module that provides functions for the estimation of many statistical models, as well as for conducting statistical tests, and statistical data exploration"
      ]
    },
    {
      "cell_type": "code",
      "metadata": {
        "colab": {
          "background_save": true
        },
        "id": "-uylJTNMqH8b"
      },
      "source": [
        "# Lets us build linear regression model using statsmodel \n",
        "\n",
        "X = sm.add_constant(X)\n",
        "X_train1, X_test, y_train, y_test = train_test_split(X, y, test_size=0.3, random_state=42)\n",
        "\n",
        "olsmod0 = sm.OLS(y_train, X_train1)\n",
        "olsres0 = olsmod0.fit()\n",
        "print(olsres0.summary())"
      ],
      "execution_count": null,
      "outputs": []
    },
    {
      "cell_type": "markdown",
      "metadata": {
        "id": "_3K1B5m_qH8d"
      },
      "source": [
        "** Observation**\n",
        "- P value of a variable indicates if the variable is significant or not. If we consider significance level to be 0.05 (5%) than any variable with p-values less than 0.05 would be considered significant.\n",
        "- Negative values of coefficient shows that, Life expectancy deceases with their increase.\n",
        "- Positive values of coefficient shows that, Life expectancy inceases with their increase.\n",
        "- But these variables might contain Multicollinearity which affects the p values, so we first need to deal with multicollinearity and then look for p values \n"
      ]
    },
    {
      "cell_type": "markdown",
      "metadata": {
        "id": "H4_Ws9_60WRG"
      },
      "source": [
        "## Interpreting the Regression Results:\n",
        "\n",
        "1. **Adjusted. R-squared**: It reflects the fit of the model.\n",
        "    - R-squared values range from 0 to 1, where a higher value generally indicates a better fit, assuming certain conditions are met.\n",
        "    - In our case, the value for Adj. R-squared is **0.85**, which is good!\n",
        "2. **const coefficient** is the Y-intercept.\n",
        "    - It means that if all the dependent variables (features: like Country, status, Adult mortality and so on..) coefficients are zero, then the expected output (i.e., the Y) would be equal to the const coefficient.\n",
        "    - In our case, the value for const coeff is **-114.81**\n",
        "\n",
        "3. **Schooling coeff**: It represents the change in the output Y due to a change of one unit in the Schooling (everything else held constant).\n",
        "4. **std err**: It reflects the level of accuracy of the coefficients.\n",
        "    - The lower it is, the higher is the level of accuracy.\n",
        "5. **P >|t|**: It is p-value.\n",
        "   \n",
        "   * Pr(>|t|) : For each independent feature there is a null hypothesis and alternate hypothesis \n",
        "\n",
        "    Ho : Independent feature is not significant \n",
        "\n",
        "    Ha : Independent feature is that it is significant\n",
        "\n",
        "Pr(>|t|) gives P-value for each independent feature to check that null hypothesis. we are considering 0.05 (5%) as significance level\n",
        "  - A p-value of less than 0.05 is considered to be statistically significant.\n",
        "\n",
        "   \n",
        "6. **Confidence Interval**: It represents the range in which our coefficients are likely to fall (with a likelihood of 95%)."
      ]
    },
    {
      "cell_type": "markdown",
      "metadata": {
        "id": "a9GxSQf-qH8e"
      },
      "source": [
        "## Checking the Linear Regression Assumptions"
      ]
    },
    {
      "cell_type": "markdown",
      "metadata": {
        "id": "5Wr6XkwoqH8f"
      },
      "source": [
        "1. No Multicollinearity\n",
        "2. Mean of residuals should be 0\n",
        "3. No Heteroscedacity\n",
        "4. Linearity of variables\n",
        "5. Normality of error terms\n"
      ]
    },
    {
      "cell_type": "markdown",
      "metadata": {
        "id": "66rBro0OqH8f"
      },
      "source": [
        "### Let's check Multicollinearity using VIF scores"
      ]
    },
    {
      "cell_type": "markdown",
      "metadata": {
        "id": "mROHQdzZqH8f"
      },
      "source": [
        "### TEST FOR MULTICOLLINEARITY\n",
        "\n",
        "* Multicollinearity occurs when predictor variables in a regression model are correlated. This correlation is a problem because predictor variables should be independent.  If the correlation between variables is high, it can cause problems when we fit the model and interpret the results. When we have multicollinearity the linear model, The coefficients that the model suggests are unreliable.\n",
        "\n",
        "* There are different ways of detecting(or  testing) multi-collinearity, one such way is Variation Inflation Factor.\n",
        "\n",
        "* **Variance  Inflation  factor**:  Variance  inflation  factors  measure  the  inflation  in  the variances of the regression parameter estimates due to collinearities that exist among the  predictors.  It  is  a  measure  of  how  much  the  variance  of  the  estimated  regression coefficient βkis “inflated”by  the  existence  of  correlation  among  the  predictor variables in the model. \n",
        "\n",
        "* General Rule of thumb: If VIF is 1 then there is no correlation among the kth predictor and the remaining predictor variables, and  hence  the variance of β̂k is not inflated at all. Whereas if VIF exceeds 5 or is close to exceeding 5, we say there is moderate VIF and if it is 10 or exceeding 10, it shows signs of high multi-collinearity."
      ]
    },
    {
      "cell_type": "code",
      "metadata": {
        "colab": {
          "background_save": true
        },
        "id": "ZV-69rVWqH8g"
      },
      "source": [
        "from statsmodels.stats.outliers_influence import variance_inflation_factor\n",
        "vif_series1 = pd.Series([variance_inflation_factor(X.values,i) for i in range(X.shape[1])],index=X.columns)\n",
        "print('Series before feature selection: \\n\\n{}\\n'.format(vif_series1))"
      ],
      "execution_count": null,
      "outputs": []
    },
    {
      "cell_type": "markdown",
      "metadata": {
        "id": "wA_OnHcyqH8p"
      },
      "source": [
        "* Infant deaths and Under-five deaths have a VIF score of much greater than 5\n",
        "* clearly these 2 variables are correlated with each other\n",
        "* This does seem to make intutive sense because the number of infant death and under-5 death would have a significant overlap"
      ]
    },
    {
      "cell_type": "markdown",
      "metadata": {
        "id": "XSiS4SRaqH8q"
      },
      "source": [
        "## Removing Multicollinearity\n",
        " * To remove multicollinearity\n",
        "  1. Drop every column one by one, that has VIF score greater than 5.\n",
        "  2. Look at the adjusted R square of all these models\n",
        "  3. Drop the Variable that makes least change in Adjusted-R square\n",
        "  4. Check the VIF Scores again\n",
        "  5. Continue till you get all VIF scores under 5"
      ]
    },
    {
      "cell_type": "code",
      "metadata": {
        "colab": {
          "background_save": true
        },
        "id": "9qfQpDDdqH8r"
      },
      "source": [
        "# we drop the one with the highest vif values and check the Adjusted-R Squared\n",
        "X_train2 = X_train1.drop('Under_five_deaths', axis=1)\n",
        "vif_series2 = pd.Series([variance_inflation_factor(X_train2.values,i) for i in range(X_train2.shape[1])],index=X_train2.columns)\n",
        "print('Series before feature selection: \\n\\n{}\\n'.format(vif_series2))"
      ],
      "execution_count": null,
      "outputs": []
    },
    {
      "cell_type": "markdown",
      "metadata": {
        "id": "R5LMJfjUqH8v"
      },
      "source": [
        "* That seemed to have helped - vif has come down to quite a good limit, now we can say features are not correlated\n"
      ]
    },
    {
      "cell_type": "code",
      "metadata": {
        "colab": {
          "background_save": true
        },
        "id": "nsZjt3ctqH8w"
      },
      "source": [
        "olsmod1 = sm.OLS(y_train, X_train2)\n",
        "olsres1 = olsmod1.fit()\n",
        "print(olsres1.summary())"
      ],
      "execution_count": null,
      "outputs": []
    },
    {
      "cell_type": "markdown",
      "metadata": {
        "id": "vMPm49WhqH81"
      },
      "source": [
        "* Earlier R-squared was 0.859, now it is reduced to 0.856 - this seems quite good!\n",
        "* What if we would have dropped Infant deaths ? - Would we get be getting better results?\n",
        "* To check this let's make a new model afte dropping Infant deaths"
      ]
    },
    {
      "cell_type": "code",
      "metadata": {
        "colab": {
          "background_save": true
        },
        "id": "H0nm7n9NqH81"
      },
      "source": [
        "# we drop the one with the highest vif values\n",
        "X_train3 = X_train1.drop('Infant_deaths', axis=1)\n",
        "vif_series3 = pd.Series([variance_inflation_factor(X_train3.values,i) for i in range(X_train3.shape[1])],index=X_train3.columns)\n",
        "print('Series before feature selection: \\n\\n{}\\n'.format(vif_series3))"
      ],
      "execution_count": null,
      "outputs": []
    },
    {
      "cell_type": "markdown",
      "metadata": {
        "id": "ZNwuFn7GqH86"
      },
      "source": [
        "* Results are quite similar as per VIF score, rest we can check Adjusted R squared for both data, and then decide which one to proceed with accordingly"
      ]
    },
    {
      "cell_type": "code",
      "metadata": {
        "colab": {
          "background_save": true
        },
        "id": "2Q6m7__IqH86"
      },
      "source": [
        "olsmod2 = sm.OLS(y_train, X_train3)\n",
        "olsres2 = olsmod2.fit()\n",
        "print(olsres2.summary())"
      ],
      "execution_count": null,
      "outputs": []
    },
    {
      "cell_type": "markdown",
      "metadata": {
        "id": "ckED-O98qH9F"
      },
      "source": [
        "### We can see Adjusted-R squared for  OLSmod2 is : 0.857 while for OLSmod 1 is : 0.856, i.e. when we drop infant deaths we get better results, so we will proceed with OLSmod2"
      ]
    },
    {
      "cell_type": "markdown",
      "metadata": {
        "id": "bAZRVvxaqH9G"
      },
      "source": [
        "* Now the above model has no multicollinearity, so we can look at p values of predictor variables to check their significance"
      ]
    },
    {
      "cell_type": "markdown",
      "metadata": {
        "id": "ccsFJFYoqH9J"
      },
      "source": [
        "**Observations**\n",
        "- BMI, Total Expenditure, GDP, Thinness_5_9_years,Continent_Oceania have p value greater than 0.05, so they are not significant, we'll drop them\n",
        "- But sometimes p values change after dropping a variable, so we'll not drop all variables at once, instead will drop them one by one "
      ]
    },
    {
      "cell_type": "markdown",
      "metadata": {
        "id": "UarWdkIlqH9L"
      },
      "source": [
        "### Let's drop the variable 'Total expenditue', since it has highest p value among all with p value greater than 0.05"
      ]
    },
    {
      "cell_type": "code",
      "metadata": {
        "colab": {
          "background_save": true
        },
        "id": "s4fj6umDqH9N"
      },
      "source": [
        "X_train4 = X_train3.drop(['Total_expenditure'], axis=1)"
      ],
      "execution_count": null,
      "outputs": []
    },
    {
      "cell_type": "code",
      "metadata": {
        "colab": {
          "background_save": true
        },
        "id": "jCDUCG6_qH9R"
      },
      "source": [
        "olsmod3 = sm.OLS(y_train, X_train4)\n",
        "olsres3 = olsmod3.fit()\n",
        "print(olsres3.summary())"
      ],
      "execution_count": null,
      "outputs": []
    },
    {
      "cell_type": "markdown",
      "metadata": {
        "id": "IxzH2liOqH9U"
      },
      "source": [
        "### Now Thinness__1_19_years  has highest p value among all variables with p value greater than 0.05, so we'll drop that "
      ]
    },
    {
      "cell_type": "code",
      "metadata": {
        "colab": {
          "background_save": true
        },
        "id": "NNI6Ff4uqH9V"
      },
      "source": [
        "X_train5 = X_train4.drop(['Thinness__1_19_years'], axis=1)"
      ],
      "execution_count": null,
      "outputs": []
    },
    {
      "cell_type": "code",
      "metadata": {
        "colab": {
          "background_save": true
        },
        "id": "SkSqDfSTqH9Z"
      },
      "source": [
        "olsmod4 = sm.OLS(y_train, X_train5)\n",
        "olsres4 = olsmod4.fit()\n",
        "print(olsres4.summary())"
      ],
      "execution_count": null,
      "outputs": []
    },
    {
      "cell_type": "markdown",
      "metadata": {
        "id": "fOlrIdS_qH9e"
      },
      "source": [
        "### Now we see that 'BMI' has highest p value among all variables with p value greater than 0.05, so we'll drop that "
      ]
    },
    {
      "cell_type": "code",
      "metadata": {
        "colab": {
          "background_save": true
        },
        "id": "pxbQEr4QqH9f"
      },
      "source": [
        "X_train6 = X_train5.drop(['BMI'], axis=1)"
      ],
      "execution_count": null,
      "outputs": []
    },
    {
      "cell_type": "code",
      "metadata": {
        "colab": {
          "background_save": true
        },
        "id": "C2-9kscWqH9j"
      },
      "source": [
        "olsmod5 = sm.OLS(y_train, X_train6)\n",
        "olsres5 = olsmod5.fit()\n",
        "print(olsres5.summary())"
      ],
      "execution_count": null,
      "outputs": []
    },
    {
      "cell_type": "markdown",
      "metadata": {
        "id": "XnOFuzLQqH9m"
      },
      "source": [
        "### Now we see that 'Continent_oceania' has highest p value among all variables with p value greater than 0.05, but we will not remove that because it is from a categorical variables and there are other levels of this category that are significant"
      ]
    },
    {
      "cell_type": "markdown",
      "metadata": {
        "id": "LF47ULR6qH9n"
      },
      "source": [
        "### Let's drop 'Measles' because it has highest p value among all variables with p value greater than 0.05, so we'll drop that "
      ]
    },
    {
      "cell_type": "code",
      "metadata": {
        "colab": {
          "background_save": true
        },
        "id": "F1Mck71_qH9o"
      },
      "source": [
        "X_train7 = X_train6.drop(['Measles'], axis=1)"
      ],
      "execution_count": null,
      "outputs": []
    },
    {
      "cell_type": "code",
      "metadata": {
        "colab": {
          "background_save": true
        },
        "id": "6YvhLOz5qH9s"
      },
      "source": [
        "olsmod6 = sm.OLS(y_train, X_train7)\n",
        "olsres6 = olsmod6.fit()\n",
        "print(olsres6.summary())"
      ],
      "execution_count": null,
      "outputs": []
    },
    {
      "cell_type": "markdown",
      "metadata": {
        "id": "QWLp2k-OqH9u"
      },
      "source": [
        "### Now we see that 'GDP' has highest p value among all variables with p value greater than 0.05, so we'll drop that "
      ]
    },
    {
      "cell_type": "code",
      "metadata": {
        "colab": {
          "background_save": true
        },
        "id": "WCE7cZe-qH9u"
      },
      "source": [
        "X_train8 = X_train7.drop(['GDP'], axis=1)"
      ],
      "execution_count": null,
      "outputs": []
    },
    {
      "cell_type": "code",
      "metadata": {
        "colab": {
          "background_save": true
        },
        "id": "mUoW1A2BqH9w"
      },
      "source": [
        "olsmod7 = sm.OLS(y_train, X_train8)\n",
        "olsres7 = olsmod7.fit()\n",
        "print(olsres7.summary())"
      ],
      "execution_count": null,
      "outputs": []
    },
    {
      "cell_type": "markdown",
      "metadata": {
        "id": "-A_zflLwqH9y"
      },
      "source": [
        "### Now no feature has p value greater than 0.05, so we'll consider features in X_train8 as the final ones and olsres7 as final model"
      ]
    },
    {
      "cell_type": "markdown",
      "metadata": {
        "id": "85AyhdAfqH9z"
      },
      "source": [
        "### Observations\n",
        "* Now Adjusted R-squared is 0.857, Our model is able to explain 85.7% of variance that shows model is good.\n",
        "* The Adjusted-R squared in Olsres0 it was 85.9% (Where we considered all the variables) this shows that the variables we dropped were not affecting the model much.\n",
        "     "
      ]
    },
    {
      "cell_type": "markdown",
      "metadata": {
        "id": "Ctk29PsRqH90"
      },
      "source": [
        "### Now we'll check rest of the assumptions on model - olsres7\n",
        "1. Mean of residuals should be 0 \n",
        "2. Linearity of variables\n",
        "3. Normality of error terms\n",
        "4. No Heteroscedacity"
      ]
    },
    {
      "cell_type": "markdown",
      "metadata": {
        "id": "A4L_f27_qH91"
      },
      "source": [
        "### Mean of residuals should be 0"
      ]
    },
    {
      "cell_type": "code",
      "metadata": {
        "colab": {
          "background_save": true
        },
        "id": "GWKm5horqH92"
      },
      "source": [
        "residual= olsres7.resid\n",
        "np.mean(residual)"
      ],
      "execution_count": null,
      "outputs": []
    },
    {
      "cell_type": "markdown",
      "metadata": {
        "id": "w99uLh5pqH-C"
      },
      "source": [
        "* Mean of redisuals is very close to 0."
      ]
    },
    {
      "cell_type": "markdown",
      "metadata": {
        "id": "MnOY6E5uqH-C"
      },
      "source": [
        "### TEST FOR LINEARITY \n",
        "\n",
        "**Why the test?**\n",
        "* Linearity describes a straight-line relationship between two variables, predictor variables must have a linear relation with the dependent variable.\n",
        "\n",
        "**How to check linearity?**\n",
        "\n",
        "* Make a plot of fitted values vs Residuals, if they don’t follow any pattern, they we say the model is linear otherwise model is showing signs of non-linearity.\n",
        "\n",
        "**How to fix if this assumption is not followed?**\n",
        "\n",
        "* We can try to transform the variables and make the relationships linear"
      ]
    },
    {
      "cell_type": "code",
      "metadata": {
        "colab": {
          "background_save": true
        },
        "id": "-YE-jb6uqH-D"
      },
      "source": [
        "residual=olsres7.resid\n",
        "fitted=olsres7.fittedvalues #predicted values"
      ],
      "execution_count": null,
      "outputs": []
    },
    {
      "cell_type": "code",
      "metadata": {
        "colab": {
          "background_save": true
        },
        "id": "NJ4ivHQiqH-G"
      },
      "source": [
        "sns.set_style(\"whitegrid\")\n",
        "sns.residplot(fitted,residual,color=\"purple\",lowess=True)\n",
        "plt.xlabel(\"Fitted Values\")\n",
        "plt.ylabel(\"Residual\")\n",
        "plt.title(\"Residual PLOT\")\n",
        "plt.show()"
      ],
      "execution_count": null,
      "outputs": []
    },
    {
      "cell_type": "markdown",
      "metadata": {
        "id": "bdVdvRegqH-M"
      },
      "source": [
        "Scatter plot shows the distribution of residuals (errors) vs fitted values (predicted values) - If there exist any pattern in this plot, we consider it as signs of non-linearity in the data and a pattern means that the model doesn’t capture non-linear effects.\n",
        "No pattern in residual hence 1st assumptions is satisfied"
      ]
    },
    {
      "cell_type": "markdown",
      "metadata": {
        "id": "VOxf_qsQqH-N"
      },
      "source": [
        "### TEST FOR NORMALITY\n",
        "\n",
        "**What is the test?**\n",
        "\n",
        "* Error terms/Residuals should be normally distributed\n",
        "\n",
        "* If the error terms are non- normally distributed, confidence intervals may become too wide or narrow. Once confidence interval becomes unstable, it leads to difficulty in estimating coefficients based on minimization of least squares.\n",
        "\n",
        "**What do non-normality indicate?**\n",
        "\n",
        "* It suggests that there are a few unusual data points which must be studied closely to make a better model.\n",
        "\n",
        "**How to Check the Normality?**\n",
        "\n",
        "* It can be checked via QQ Plot, Residuals following normal distribution will make a straight line plot otherwise not.\n",
        "\n",
        "* Other test to check for normality : Shapiro-Wilk test.\n",
        "\n",
        "**What is the residuals are not-normal?**\n",
        "\n",
        "* We can apply transformations like log, exponential, arcsinh etc as per our data"
      ]
    },
    {
      "cell_type": "code",
      "metadata": {
        "colab": {
          "background_save": true
        },
        "id": "MUdQ6XJLqH-N"
      },
      "source": [
        "sns.distplot(residual)\n",
        "plt.title('Normality of residuals')\n",
        "plt.show()"
      ],
      "execution_count": null,
      "outputs": []
    },
    {
      "cell_type": "markdown",
      "metadata": {
        "id": "S9YQpkZ-qH-Q"
      },
      "source": [
        "#### The QQ plot of residuals can be used to visually check the normality assumption. The normal probability plot of residuals should approximately follow a straight line."
      ]
    },
    {
      "cell_type": "code",
      "metadata": {
        "colab": {
          "background_save": true
        },
        "id": "Wj8y7-1nqH-Q"
      },
      "source": [
        "import pylab\n",
        "import scipy.stats as stats\n",
        "stats.probplot(residual,dist=\"norm\",plot=pylab)\n",
        "plt.show()"
      ],
      "execution_count": null,
      "outputs": []
    },
    {
      "cell_type": "code",
      "metadata": {
        "colab": {
          "background_save": true
        },
        "id": "b1LIATpBqH-U"
      },
      "source": [
        "stats.shapiro(residual)"
      ],
      "execution_count": null,
      "outputs": []
    },
    {
      "cell_type": "markdown",
      "metadata": {
        "id": "TD0BLsvSqH-Z"
      },
      "source": [
        "* The residuals are not normal as per shapiro test, but as per QQ plot they are approximately normal.\n",
        "* The issue with shapiro test is when dataset is big, even for small deviations, it shows data as not normal\n",
        "* Hence we go with QQ plot and say that residuals are normal\n",
        "* We can try to treat data for outliers and see if that helps in further normalising the residual curve"
      ]
    },
    {
      "cell_type": "markdown",
      "metadata": {
        "id": "6gZ4GKY_qH-Z"
      },
      "source": [
        "### TEST FOR HOMOSCEDASTICITY\n",
        "\n",
        "* Test -goldfeldquandt test\n",
        "\n",
        "* Homoscedacity - If the variance of the residuals are symmetrically distributed across the regression line , then the data is said to homoscedastic.\n",
        "\n",
        "* Heteroscedacity - If the variance is unequal for the residuals across the regression line, then the data is said to be heteroscedastic. In this case the residuals can form an arrow shape or any other non symmetrical shape."
      ]
    },
    {
      "cell_type": "markdown",
      "metadata": {
        "id": "RSGaoO-dqH-a"
      },
      "source": [
        "Null hypothesis : Residuals are homoscedastic\n",
        "\n",
        "Alternate hypothesis : Residuals have hetroscedasticity"
      ]
    },
    {
      "cell_type": "code",
      "metadata": {
        "colab": {
          "background_save": true
        },
        "id": "naX-iXItqH-b"
      },
      "source": [
        "import statsmodels.stats.api as sms\n",
        "from statsmodels.compat import lzip\n",
        "\n",
        "name = ['F statistic', 'p-value']\n",
        "test = sms.het_goldfeldquandt(residual, X_train8)\n",
        "lzip(name, test)"
      ],
      "execution_count": null,
      "outputs": []
    },
    {
      "cell_type": "markdown",
      "metadata": {
        "id": "hzmt1AqYqH-d"
      },
      "source": [
        "Since p-value > 0.05 we can say that the residuals are homoscedastic. This assumption is therefore valid in the data."
      ]
    },
    {
      "cell_type": "markdown",
      "metadata": {
        "id": "wbnr4QViqH-e"
      },
      "source": [
        "### Now we have checked all the assumptions and they are satisfied, so we can move towards prediction part"
      ]
    },
    {
      "cell_type": "markdown",
      "metadata": {
        "id": "2EDLuiFcqH-g"
      },
      "source": [
        "### Predicting on the test data"
      ]
    },
    {
      "cell_type": "code",
      "metadata": {
        "colab": {
          "background_save": true
        },
        "id": "CkQa-RdLqH-g"
      },
      "source": [
        "X_train8.columns"
      ],
      "execution_count": null,
      "outputs": []
    },
    {
      "cell_type": "markdown",
      "metadata": {
        "id": "GPUrT5QEqH-l"
      },
      "source": [
        "* Selecting columns from test data that we used to create our final model"
      ]
    },
    {
      "cell_type": "code",
      "metadata": {
        "colab": {
          "background_save": true
        },
        "id": "9B7KSevVqH-l"
      },
      "source": [
        "X_test_final = X_test[X_train8.columns]"
      ],
      "execution_count": null,
      "outputs": []
    },
    {
      "cell_type": "code",
      "metadata": {
        "colab": {
          "background_save": true
        },
        "id": "Zx2xmArSqH-p"
      },
      "source": [
        "X_test_final.head()"
      ],
      "execution_count": null,
      "outputs": []
    },
    {
      "cell_type": "code",
      "metadata": {
        "colab": {
          "background_save": true
        },
        "id": "zsce_PY1qH-r"
      },
      "source": [
        "y_pred = olsres7.predict(X_test_final)"
      ],
      "execution_count": null,
      "outputs": []
    },
    {
      "cell_type": "markdown",
      "metadata": {
        "id": "vwh6bqNmqH-s"
      },
      "source": [
        "### Checking the performance on train and test: metric used - RMSE"
      ]
    },
    {
      "cell_type": "code",
      "metadata": {
        "colab": {
          "background_save": true
        },
        "id": "D2DesYPlqH-s"
      },
      "source": [
        "#Checking root mean squared error on both train and test set  \n",
        "\n",
        "from sklearn.metrics import mean_squared_error\n",
        "rms = np.sqrt(mean_squared_error(y_train, fitted))\n",
        "print('Train error:',rms)\n",
        "\n",
        "rms1 = np.sqrt(mean_squared_error(y_test, y_pred))\n",
        "print('Test error:',rms1)"
      ],
      "execution_count": null,
      "outputs": []
    },
    {
      "cell_type": "markdown",
      "metadata": {
        "id": "h8CeR5BuqH-w"
      },
      "source": [
        "### Now we can finally see that we have low test and train error, also both the errors are comparable, so our model is not suffering from overfitting .\n",
        "### Hence we can conclude the model \"olsres7\" is good for prediction as well as inference purpose\n"
      ]
    },
    {
      "cell_type": "code",
      "metadata": {
        "colab": {
          "background_save": true
        },
        "id": "XDZD9zkmqH-x"
      },
      "source": [
        "olsmod7 = sm.OLS(y_train, X_train8)\n",
        "olsres7 = olsmod7.fit()\n",
        "print(olsres7.summary())"
      ],
      "execution_count": null,
      "outputs": []
    },
    {
      "cell_type": "markdown",
      "metadata": {
        "id": "gl8R4nWZqH-0"
      },
      "source": [
        "### Observations\n",
        "* Now this is our final model which follows all the assumptions and this can be used for interpretations\n",
        "\n",
        "          1. Mortality rates come out to be very signifcant, as expected. There are two variable - under_five_deaths and Adult_mortality. As these two increase, the total life expectancy decreases, as visible in the negative coeefficinet sign \n",
        "          2. 1 unit increase in alcohol value (per capita consumption of pure alcohol in litres) leads to decrease in life expectancy by 0.0984 years (~35 days !)\n",
        "          3. Diseases like \"Hepatitis B and  HIV-AIDS\" decrease the Life expectancy\n",
        "          4. Developing countries tend to have less life expectancy but as the country status will change to developed, \n",
        "             life expectancy will increase too\n",
        "          5. Year, percentage expenditure, Polio (refers to polio immunization), Diptheria(refers to diptheria immunization), \n",
        "             population, Income, Schooling are positively correlated , so as they will increase life expectancy will also \n",
        "             incease."
      ]
    },
    {
      "cell_type": "markdown",
      "metadata": {
        "id": "nrEXEiJEqH-0"
      },
      "source": [
        "## Forward Feature Selection \n",
        "### forward feature selection starts with an empty model and adds in variables one by one.\n",
        "* In each forward step, you add the one variable that gives the single best improvement to your model.\n"
      ]
    },
    {
      "cell_type": "code",
      "metadata": {
        "colab": {
          "background_save": true
        },
        "id": "0OdyVBs3qH-1"
      },
      "source": [
        "X_train_new = X_train3.drop('const', axis = 1)"
      ],
      "execution_count": null,
      "outputs": []
    },
    {
      "cell_type": "markdown",
      "metadata": {
        "id": "YTvw8CvcqH--"
      },
      "source": [
        "* We'll use forward feature selection on variables, we received after removing multicollinearity\n",
        "* Also we'll remove const term, because sklearn adds that automatically unlike statmodels"
      ]
    },
    {
      "cell_type": "code",
      "metadata": {
        "colab": {
          "background_save": true
        },
        "id": "yTr4sCU7qH_A"
      },
      "source": [
        "from mlxtend.feature_selection import SequentialFeatureSelector as sfs\n",
        "#from sklearn.lin"
      ],
      "execution_count": null,
      "outputs": []
    },
    {
      "cell_type": "code",
      "metadata": {
        "colab": {
          "background_save": true
        },
        "id": "4lAz8-EMqH_E",
        "scrolled": false
      },
      "source": [
        "clf = LinearRegression()\n",
        "\n",
        "# Build step forward feature selection\n",
        "sfs1 = sfs(clf,k_features = 24,forward=True,\n",
        "           floating=False, scoring= 'r2',\n",
        "           verbose=2,\n",
        "           cv=5)\n",
        "\n",
        " # Perform SFFS\n",
        "sfs1 = sfs1.fit(X_train_new, y_train)"
      ],
      "execution_count": null,
      "outputs": []
    },
    {
      "cell_type": "markdown",
      "metadata": {
        "id": "TIIiLvvsqH_L"
      },
      "source": [
        "### We can see that Adjusted-R square starts decreasing after addition of 19th feature, so we will proceed only with best 18 features"
      ]
    },
    {
      "cell_type": "markdown",
      "metadata": {
        "id": "c0cp8EOsqH_L"
      },
      "source": [
        "* Now we'll change k_features to 18, where k_features denotes \"Number of features to select\""
      ]
    },
    {
      "cell_type": "code",
      "metadata": {
        "colab": {
          "background_save": true
        },
        "id": "ysSkaRN9qH_M"
      },
      "source": [
        "clf = LinearRegression()\n",
        "\n",
        "# # Build step forward feature selection\n",
        "sfs1 = sfs(clf,k_features = 18,forward=True,\n",
        "           floating=False, scoring='r2',\n",
        "           verbose=2,\n",
        "           cv=5)\n",
        "\n",
        " # Perform SFFS\n",
        "sfs1 = sfs1.fit(X_train_new, y_train)"
      ],
      "execution_count": null,
      "outputs": []
    },
    {
      "cell_type": "code",
      "metadata": {
        "colab": {
          "background_save": true
        },
        "id": "RRthzjjOqH_O",
        "scrolled": true
      },
      "source": [
        "# Now Which features are important?\n",
        "feat_cols = list(sfs1.k_feature_idx_)\n",
        "print(feat_cols)"
      ],
      "execution_count": null,
      "outputs": []
    },
    {
      "cell_type": "code",
      "metadata": {
        "colab": {
          "background_save": true
        },
        "id": "z7U3DS_2qH_Q",
        "scrolled": true
      },
      "source": [
        "X_train4.columns[feat_cols]"
      ],
      "execution_count": null,
      "outputs": []
    },
    {
      "cell_type": "markdown",
      "metadata": {
        "id": "KpUjOgOSqH_U"
      },
      "source": [
        "### Now we will fit a sklearn model using these features only"
      ]
    },
    {
      "cell_type": "code",
      "metadata": {
        "colab": {
          "background_save": true
        },
        "id": "dQTigbMLqH_U"
      },
      "source": [
        "X_train_final = X_train4[X_train4.columns[feat_cols]]"
      ],
      "execution_count": null,
      "outputs": []
    },
    {
      "cell_type": "code",
      "metadata": {
        "colab": {
          "background_save": true
        },
        "id": "FHPIemtbqH_W"
      },
      "source": [
        "#\n",
        "X_test.columns"
      ],
      "execution_count": null,
      "outputs": []
    },
    {
      "cell_type": "code",
      "metadata": {
        "colab": {
          "background_save": true
        },
        "id": "RzRo4ycBqH_Y"
      },
      "source": [
        "#Creating new x_test with the same 18 variables that we selected for x_train\n",
        "X_test_final = X_test[X_train_final.columns]"
      ],
      "execution_count": null,
      "outputs": []
    },
    {
      "cell_type": "code",
      "metadata": {
        "colab": {
          "background_save": true
        },
        "id": "JsGeSdCYqH_b"
      },
      "source": [
        "#Fitting linear model\n",
        "\n",
        "from sklearn.linear_model import LinearRegression\n",
        "linearregression = LinearRegression()                                    \n",
        "linearregression.fit(X_train_final, y_train)                                  \n",
        "\n",
        "print(\"Intercept of the linear equation:\", linearregression.intercept_) \n",
        "print(\"\\nCOefficients of the equation are:\", linearregression.coef_)\n",
        "\n",
        "from sklearn.metrics import mean_absolute_error, mean_squared_error, r2_score\n",
        "\n",
        "predicted = linearregression.predict(X_train_final)\n",
        "pred = linearregression.predict(X_test_final)                              "
      ],
      "execution_count": null,
      "outputs": []
    },
    {
      "cell_type": "code",
      "metadata": {
        "colab": {
          "background_save": true
        },
        "id": "B_H16aELqH_e"
      },
      "source": [
        "# R2 Squared: on train and test\n",
        "print('r2 score on train data :', r2_score(y_train, predicted))\n",
        "print('r2 score on test data :', r2_score(y_test, pred))"
      ],
      "execution_count": null,
      "outputs": []
    },
    {
      "cell_type": "code",
      "metadata": {
        "colab": {
          "background_save": true
        },
        "id": "xNEkSnDAqH_j"
      },
      "source": [
        "# RMSE on train and test data\n",
        "print('rmse on train data :', mean_squared_error(y_train, predicted)**0.5)\n",
        "print('rmse on test data :', mean_squared_error(y_test, pred)**0.5)"
      ],
      "execution_count": null,
      "outputs": []
    },
    {
      "cell_type": "markdown",
      "metadata": {
        "id": "nIl-DSSEqH_m"
      },
      "source": [
        "### Both r2 score and RMSE  shows that model fitted is good, has no overfitting and can be used for making predictions "
      ]
    },
    {
      "cell_type": "markdown",
      "metadata": {
        "id": "61WHrmB0qH_m"
      },
      "source": [
        "### we can observe here, the results from 'olsreg7' and 'linearegession' model are approximately same"
      ]
    },
    {
      "cell_type": "markdown",
      "metadata": {
        "id": "ZvoamVbDqH_n"
      },
      "source": [
        "### In case when we have lots of features, instead of removing features on the basis of p values manually, we can go for forward selection also"
      ]
    },
    {
      "cell_type": "markdown",
      "metadata": {
        "id": "QijhFgmh5PO3"
      },
      "source": [
        "# Appendix:"
      ]
    },
    {
      "cell_type": "markdown",
      "metadata": {
        "id": "jPrVnydQ5Nai"
      },
      "source": [
        "\n",
        "- **warnings.filterwarnings(\"ignore\")** : Never print matching warnings.\n",
        "\n",
        "- **Pandas** : Pandas is an open source library providing high-performance, easy-to-use data structures and data analysis tools for the Python programming language.\n",
        "\n",
        "- **Numpy** : The fundamental package for scientific computing with Python.\n",
        "\n",
        "- **Matplotlib** : Matplotlib is a comprehensive library for creating static, animated, and interactive visualizations in Python.\n",
        "\n",
        "- **Seaborn** : Seaborn is a Python data visualization library based on matplotlib. It provides a high-level interface for drawing attractive and informative statistical graphics.\n",
        "\n",
        "- **pairplot** : Plot pairwise relationships in a dataset.\n",
        "\n",
        "- **boxplot** : Draw a box plot to show distributions with respect to categories.\n",
        "\n",
        "- **distplot** : Flexibly plot a univariate distribution of observations.\n",
        "\n",
        "- **pandas.DataFrame.corr** : Compute pairwise correlation of columns, excluding NA/null values.\n",
        "\n",
        "- **sklearn.linear_model.LinearRegression** : Ordinary least squares Linear Regression.\n",
        "\n",
        "- **scipy.stats** : This module contains a large number of probability distributions as well as a growing library of statistical functions.\n",
        "\n",
        "- **statsmodels** : It is a Python module that provides classes and functions for the estimation of many different statistical models, as well as for conducting statistical tests, and statistical data exploration.\n",
        "    - An extensive list of result statistics are available for each estimator.\n",
        "    - The results are tested against existing statistical packages to ensure that they are correct.\n",
        "    - The online documentation is hosted at [statsmodels.org](https://www.statsmodels.org/stable/index.html)."
      ]
    },
    {
      "cell_type": "code",
      "metadata": {
        "colab": {
          "background_save": true
        },
        "id": "nOHJ2eEtAqrA"
      },
      "source": [
        ""
      ],
      "execution_count": null,
      "outputs": []
    }
  ]
}